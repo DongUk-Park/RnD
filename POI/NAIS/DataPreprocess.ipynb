{
  "nbformat": 4,
  "nbformat_minor": 0,
  "metadata": {
    "colab": {
      "provenance": [],
      "authorship_tag": "ABX9TyPYktE/VCYPCyWsubLBSm5I",
      "include_colab_link": true
    },
    "kernelspec": {
      "name": "python3",
      "display_name": "Python 3"
    },
    "language_info": {
      "name": "python"
    }
  },
  "cells": [
    {
      "cell_type": "markdown",
      "metadata": {
        "id": "view-in-github",
        "colab_type": "text"
      },
      "source": [
        "<a href=\"https://colab.research.google.com/github/DongUk-Park/RnD/blob/main/POI/NAIS/DataPreprocess.ipynb\" target=\"_parent\"><img src=\"https://colab.research.google.com/assets/colab-badge.svg\" alt=\"Open In Colab\"/></a>"
      ]
    },
    {
      "cell_type": "code",
      "source": [
        "from google.colab import drive\n",
        "drive.mount('/content/drive')"
      ],
      "metadata": {
        "colab": {
          "base_uri": "https://localhost:8080/"
        },
        "id": "sz02jHReVQp3",
        "outputId": "f770b61a-fbc5-4bf8-bc60-b26e8dd3fa09"
      },
      "execution_count": 65,
      "outputs": [
        {
          "output_type": "stream",
          "name": "stdout",
          "text": [
            "Drive already mounted at /content/drive; to attempt to forcibly remount, call drive.mount(\"/content/drive\", force_remount=True).\n"
          ]
        }
      ]
    },
    {
      "cell_type": "code",
      "source": [
        "import json\n",
        "import csv\n",
        "import os\n",
        "import pandas as pd\n",
        "import numpy as np\n",
        "import random"
      ],
      "metadata": {
        "id": "0IoUIsssa0xJ"
      },
      "execution_count": 66,
      "outputs": []
    },
    {
      "cell_type": "markdown",
      "source": [
        "#Data Untils"
      ],
      "metadata": {
        "id": "nKfI4m3viN0K"
      }
    },
    {
      "cell_type": "markdown",
      "source": [
        "## RAW Data 생성"
      ],
      "metadata": {
        "id": "PhCUVteFhzfa"
      }
    },
    {
      "cell_type": "markdown",
      "source": [
        "### Check_in Data 생성\n",
        "리뷰 데이터로 체크인 데이터(user,business_id)를 만든다 <br>\n",
        "원하는 데이터 정보 추가,삭제 : 13, 21 수정"
      ],
      "metadata": {
        "id": "-xyzMoULh3MO"
      }
    },
    {
      "cell_type": "code",
      "source": [
        "# JSON 파일 경로\n",
        "json_file_path = '/content/drive/MyDrive/dataset/yelp_dataset/review.json'\n",
        "\n",
        "# CSV 파일 경로\n",
        "csv_file_path = '/content/checkin.csv'\n",
        "\n",
        "# CSV 파일을 쓰기 모드로 열기\n",
        "with open(csv_file_path, 'w', newline='') as csv_file:\n",
        "    # CSV 라이터 생성\n",
        "    csv_writer = csv.writer(csv_file)\n",
        "\n",
        "    # CSV 파일 헤더 작성\n",
        "    csv_writer.writerow(['user_id', 'business_id'])\n",
        "\n",
        "    # JSON 파일을 한 줄씩 읽어서 처리\n",
        "    with open(json_file_path, 'r', encoding='utf-8') as json_file:\n",
        "        for line in json_file:\n",
        "            data = json.loads(line)  # JSON 데이터 파싱\n",
        "\n",
        "            # user_id와 business_id 추출\n",
        "            user_id = data['user_id']\n",
        "            business_id = data['business_id']\n",
        "\n",
        "            # CSV 파일에 데이터 작성\n",
        "            csv_writer.writerow([user_id, business_id])\n",
        "\n",
        "print(\"checkin_data 생성 완료.\")\n"
      ],
      "metadata": {
        "id": "b7ADsbxTYIeN",
        "colab": {
          "base_uri": "https://localhost:8080/"
        },
        "outputId": "7bc4e8f2-20e2-40dc-b383-1e8dfb888650"
      },
      "execution_count": 67,
      "outputs": [
        {
          "output_type": "stream",
          "name": "stdout",
          "text": [
            "checkin_data 생성 완료.\n"
          ]
        }
      ]
    },
    {
      "cell_type": "code",
      "source": [
        "\"\"\"\n",
        "데이터 개수(row 수) 확인\n",
        "\"\"\"\n",
        "\n",
        "# CSV 파일 경로\n",
        "csv_file_path = '/content/checkin.csv'\n",
        "\n",
        "row_count = 0\n",
        "\n",
        "# CSV 파일을 읽기 모드로 열고 행 수를 센다\n",
        "with open(csv_file_path, 'r', newline='') as csv_file:\n",
        "    csv_reader = csv.reader(csv_file)\n",
        "    next(csv_reader)  # 헤더 행을 건너뜁니다.\n",
        "    for row in csv_reader:\n",
        "        row_count += 1\n",
        "\n",
        "print(f\"CSV 파일의 행 수: {row_count}\")"
      ],
      "metadata": {
        "colab": {
          "base_uri": "https://localhost:8080/"
        },
        "id": "4oN8U_Jwhc-4",
        "outputId": "111b8706-13f9-4c19-fc20-4c5da7254252"
      },
      "execution_count": 68,
      "outputs": [
        {
          "output_type": "stream",
          "name": "stdout",
          "text": [
            "CSV 파일의 행 수: 6990280\n"
          ]
        }
      ]
    },
    {
      "cell_type": "markdown",
      "source": [
        "### Business_info Data 생성\n",
        "Business 데이터로 가게의 위치를 담은 데이터(business_id,location, city)를 만든다 <br>\n",
        "원하는 데이터 정보 추가,삭제 : 13, 21 수정"
      ],
      "metadata": {
        "id": "0xggQlipiDwn"
      }
    },
    {
      "cell_type": "code",
      "source": [
        "# JSON 파일 경로\n",
        "json_file_path = '/content/drive/MyDrive/dataset/yelp_dataset/business.json'\n",
        "\n",
        "# CSV 파일 경로\n",
        "csv_file_path = '/content/business_info.csv'\n",
        "\n",
        "# CSV 파일을 쓰기 모드로 열기\n",
        "with open(csv_file_path, 'w', newline='') as csv_file:\n",
        "    # CSV 라이터 생성\n",
        "    csv_writer = csv.writer(csv_file)\n",
        "\n",
        "    # CSV 파일 헤더 작성\n",
        "    csv_writer.writerow(['business_id','latitude ','longitute', 'city'])\n",
        "\n",
        "    # business_id 를 int형으로 변환\n",
        "    idx = 0\n",
        "\n",
        "    # JSON 파일을 한 줄씩 읽어서 처리\n",
        "    with open(json_file_path, 'r', encoding='utf-8') as json_file:\n",
        "        for line in json_file:\n",
        "            data = json.loads(line)  # JSON 데이터 파싱\n",
        "\n",
        "            # user_id와 business_id 추출\n",
        "            business_id = data['business_id']\n",
        "            latitude = data['latitude']\n",
        "            longitude = data['longitude']\n",
        "            city = data['city']\n",
        "\n",
        "            # CSV 파일에 데이터 작성\n",
        "            csv_writer.writerow([business_id, latitude, longitude, city])\n",
        "            idx += 1\n",
        "\n",
        "print(\"CSV 파일 생성 완료.\")\n"
      ],
      "metadata": {
        "colab": {
          "base_uri": "https://localhost:8080/"
        },
        "id": "MIViQvaZf73o",
        "outputId": "db40539e-7ed1-4b6e-c3d8-25e233863d99"
      },
      "execution_count": 69,
      "outputs": [
        {
          "output_type": "stream",
          "name": "stdout",
          "text": [
            "CSV 파일 생성 완료.\n"
          ]
        }
      ]
    },
    {
      "cell_type": "code",
      "source": [
        "\"\"\"\n",
        "데이터 개수(row 수) 확인\n",
        "\"\"\"\n",
        "# CSV 파일 경로\n",
        "csv_file_path = '/content/business_info.csv'\n",
        "\n",
        "row_count = 0\n",
        "\n",
        "# CSV 파일을 읽기 모드로 열고 행 수를 센다\n",
        "with open(csv_file_path, 'r', newline='') as csv_file:\n",
        "    csv_reader = csv.reader(csv_file)\n",
        "    next(csv_reader)  # 헤더 행을 건너뜁니다.\n",
        "    for row in csv_reader:\n",
        "        row_count += 1\n",
        "\n",
        "print(f\"CSV 파일의 행 수: {row_count}\")"
      ],
      "metadata": {
        "colab": {
          "base_uri": "https://localhost:8080/"
        },
        "id": "fjSb85oPhoEq",
        "outputId": "83616ffc-01ce-4644-c637-71d93340963f"
      },
      "execution_count": 70,
      "outputs": [
        {
          "output_type": "stream",
          "name": "stdout",
          "text": [
            "CSV 파일의 행 수: 150346\n"
          ]
        }
      ]
    },
    {
      "cell_type": "markdown",
      "source": [
        "## 사용자 방문데이터(위치포함) 생성\n",
        "위에서 생성한 데이터 두개를 합친 방문데이터 생성 <br>\n",
        "checkin + business_info => location과 city 확인<br>\n",
        "Philadelphia 도시에 대한 데이터만 남김"
      ],
      "metadata": {
        "id": "jZaAIcKIjdeH"
      }
    },
    {
      "cell_type": "code",
      "source": [
        "# business_info.csv 파일 경로\n",
        "business_info_file = '/content/business_info.csv'\n",
        "\n",
        "# checkin_data.csv 파일 경로\n",
        "checkin_data_file = '/content/checkin.csv'\n",
        "\n",
        "# 새로운 CSV 파일 경로 (결과 저장용)\n",
        "output_file = '/content/checkin_data_in_philadelphia.csv'\n",
        "\n",
        "# business_id를 키로 한 dictionary 생성\n",
        "business_location = {}\n",
        "with open(business_info_file, 'r', newline='') as business_file:\n",
        "    csv_reader = csv.reader(business_file)\n",
        "    next(csv_reader)  # 헤더 행 건너뛰기\n",
        "    for row in csv_reader:\n",
        "        business_id, latitude, longitude, city = row[0], row[1], row[2], row[3].lower() #city : 소문자로 받음\n",
        "        business_location[business_id] = (latitude, longitude, city)\n",
        "\n",
        "count = 0 # 잘 다 들어갔는지 체크\n",
        "mcount = 0 # 잘 안들어간거 있는지 체크\n",
        "not_phila = 0\n",
        "\n",
        "# 새로운 CSV 파일(output_file : checkin_data_in_philadelphia)을 작성하여 business_id, latitude, longitude를 추가\n",
        "with open(checkin_data_file, 'r', newline='') as checkin_file, open(output_file, 'w', newline='') as output_csv:\n",
        "    csv_reader = csv.reader(checkin_file)\n",
        "    csv_writer = csv.writer(output_csv)\n",
        "\n",
        "    # 헤더 행 작성\n",
        "    header = next(csv_reader)\n",
        "    header.extend(['business_id', 'latitude', 'longitude', 'city'])\n",
        "    csv_writer.writerow(header)\n",
        "\n",
        "    for row in csv_reader:\n",
        "        business_id = row[1]\n",
        "        if business_id in business_location:\n",
        "            latitude, longitude, city = business_location[business_id]\n",
        "\n",
        "            # city가 \"philadelphia\"인 경우에만 데이터를 CSV 파일에 작성\n",
        "            if \"philadelphia\" in city: #philadelphia 에서 오타가 존재할 수 있기 때문에 \"phila\"만 검사\n",
        "              row.extend([latitude, longitude, city])\n",
        "              csv_writer.writerow(row)\n",
        "              count += 1\n",
        "            else:\n",
        "              not_phila += 1\n",
        "        else:\n",
        "            # 해당 business_id가 business_info.csv에 없을 경우, 스킵\n",
        "            mcount += 1\n",
        "            continue\n",
        "\n",
        "print(\"CSV 파일에 위치 정보가 추가되었습니다.\")\n",
        "print(count, mcount, not_phila) #philadelphia, 에러, 다른도시\n"
      ],
      "metadata": {
        "colab": {
          "base_uri": "https://localhost:8080/"
        },
        "id": "0BJuWs_UjooF",
        "outputId": "3f04ebc9-61eb-4187-978e-b2e075d54ba2"
      },
      "execution_count": 71,
      "outputs": [
        {
          "output_type": "stream",
          "name": "stdout",
          "text": [
            "CSV 파일에 위치 정보가 추가되었습니다.\n",
            "968050 0 6022230\n"
          ]
        }
      ]
    },
    {
      "cell_type": "markdown",
      "source": [
        "user_id 순으로 정렬"
      ],
      "metadata": {
        "id": "byvRheBB6gdX"
      }
    },
    {
      "cell_type": "code",
      "source": [
        "# CSV 파일 경로\n",
        "input_file = '/content/checkin_data_in_philadelphia.csv'\n",
        "output_file = '/content/checkin_data_final.csv'\n",
        "\n",
        "# CSV 파일을 읽고 데이터를 리스트로 저장\n",
        "data = []\n",
        "with open(input_file, 'r', newline='') as csv_file:\n",
        "    csv_reader = csv.reader(csv_file)\n",
        "    header = next(csv_reader)  # 헤더 행\n",
        "    #data.append(header)\n",
        "    for row in csv_reader:\n",
        "        data.append(row)\n",
        "\n",
        "# user_id를 기준으로 데이터를 정렬\n",
        "data.sort(key=lambda x: x[0])  # 여기서 0은 user_id 열을 가리킵니다. 0부터 시작하면 첫 번째 열입니다.\n",
        "\n",
        "# user_id를 정수형으로 변환\n",
        "idx = 0\n",
        "before_user_id = data[0][0]\n",
        "for i in data:\n",
        "  if i[0] == before_user_id:\n",
        "    i[0] = idx\n",
        "  else:\n",
        "    idx += 1\n",
        "    before_user_id = i[0]\n",
        "    i[0] = idx\n",
        "\n",
        "\n",
        "# business_id 기준으로 데이터를 정렬\n",
        "data.sort(key=lambda x: x[1])  # 여기서 0은 user_id 열을 가리킵니다. 0부터 시작하면 첫 번째 열입니다.\n",
        "print(data[:3])\n",
        "\n",
        "# business_id 정수형으로 변환\n",
        "idx = 0\n",
        "before_business_id = data[1][0]\n",
        "for i in data:\n",
        "  if i[1] == before_business_id:\n",
        "    i[1] = idx\n",
        "  else:\n",
        "    idx += 1\n",
        "    before_business_id = i[1]\n",
        "    i[1] = idx\n",
        "\n",
        "# 다시 유저 번호 기준으로 정렬\n",
        "data.sort(key=lambda x: x[0])\n",
        "print(data[:3])\n",
        "\n",
        "# 정렬된 데이터를 새로운 파일에 저장\n",
        "with open(output_file, 'w', newline='') as csv_file:\n",
        "    csv_writer = csv.writer(csv_file)\n",
        "    csv_writer.writerows(data)\n",
        "\n",
        "print(\"CSV 파일이 user_id를 기준으로 정렬되었고, 새로운 파일에 저장되었습니다.\")"
      ],
      "metadata": {
        "colab": {
          "base_uri": "https://localhost:8080/"
        },
        "id": "3ygQK6Rank3J",
        "outputId": "3f890cb4-990d-47ed-f6d5-5c655a4bb6c5"
      },
      "execution_count": 72,
      "outputs": [
        {
          "output_type": "stream",
          "name": "stdout",
          "text": [
            "[[55363, '--OS_I7dnABrXvRCCuWOGQ', '40.0281603', '-75.0338026', 'philadelphia'], [65734, '--OS_I7dnABrXvRCCuWOGQ', '40.0281603', '-75.0338026', 'philadelphia'], [123557, '--OS_I7dnABrXvRCCuWOGQ', '40.0281603', '-75.0338026', 'philadelphia']]\n",
            "[[0, 1482, '40.0741872', '-75.2030839', 'philadelphia'], [0, 8855, '39.9544408', '-75.1704266', 'philadelphia'], [1, 7951, '39.9418368', '-75.1538396', 'philadelphia']]\n",
            "CSV 파일이 user_id를 기준으로 정렬되었고, 새로운 파일에 저장되었습니다.\n"
          ]
        }
      ]
    },
    {
      "cell_type": "code",
      "source": [
        "data.sort(key=lambda x: x[1])\n",
        "\n",
        "column =['user_id', 'business_id', 'latitude', 'longitude', 'city']\n",
        "df = pd.DataFrame(data, columns=column)\n",
        "# 중복되지 않는 '키' 값을 찾고 필터링\n",
        "result = df.drop_duplicates('business_id', keep='first')[['business_id', 'latitude', 'longitude', 'city']].values.tolist()\n",
        "print(len(result))\n",
        "\n",
        "with open('/content/business_info_in_philadelphia.csv', 'w', newline='') as csv_file:\n",
        "    csv_writer = csv.writer(csv_file)\n",
        "    csv_writer.writerows(result)"
      ],
      "metadata": {
        "colab": {
          "base_uri": "https://localhost:8080/"
        },
        "id": "4flZ--PwZqVN",
        "outputId": "a22ce11a-687b-4609-c150-9281e1c35475"
      },
      "execution_count": 79,
      "outputs": [
        {
          "output_type": "stream",
          "name": "stdout",
          "text": [
            "14586\n"
          ]
        }
      ]
    },
    {
      "cell_type": "code",
      "source": [
        "\"\"\"\n",
        "train에 사용될 history 데이터 (2차원 리스트)\n",
        "인덱스 번호 : user_Id\n",
        "인덱스 value(list형식) : 해당 uesr가 방문한 business_id 리스트\n",
        "\"\"\"\n",
        "data.sort(key=lambda x: x[0])\n",
        "history_list = []\n",
        "tmp = []\n",
        "before_user_id = 0\n",
        "for idx, i in enumerate(data):\n",
        "  if i[0] == before_user_id:\n",
        "    tmp.append(i[1])\n",
        "  else:\n",
        "    if len(tmp) >= 10: # 방문 횟수가 10회가 넘는 유저만 append\n",
        "      history_list.append(tmp)\n",
        "\n",
        "    tmp = []\n",
        "    tmp.append(i[1])\n",
        "    before_user_id += 1\n",
        "\n",
        "  if idx == len(data) - 1:\n",
        "    history_list.append(tmp)\n",
        "\n",
        "output_file = '/content/history_list.csv'\n",
        "with open(output_file, 'w', newline='') as csv_file:\n",
        "    csv_writer = csv.writer(csv_file)\n",
        "    csv_writer.writerows(history_list)"
      ],
      "metadata": {
        "id": "E2NI2LS8oEY2"
      },
      "execution_count": 76,
      "outputs": []
    },
    {
      "cell_type": "markdown",
      "source": [
        "## Test,Validation,Train Data 생성"
      ],
      "metadata": {
        "id": "TzgNb3_5Rklv"
      }
    },
    {
      "cell_type": "code",
      "source": [
        "\"\"\"\n",
        "위 history_list를 train, validation, test 데이터셋으로 분리시킴\n",
        "\"\"\"\n",
        "\n",
        "train_ratio = 0.6\n",
        "test_ratio = 0.2\n",
        "validation_ratio = 0.2\n",
        "\n",
        "train_dataset = []\n",
        "test_dataset = []\n",
        "validation_dataset = []\n",
        "\n",
        "train_negative_dataset = [] # business_id 개수 : 150346개\n",
        "validation_negative_dataset = []\n",
        "test_negative_dataset = []\n",
        "\n",
        "\n",
        "#아래의 결과를 csv 파일로 저장할 경로, 총 6개의 파일 생성\n",
        "output_train = '/content/history_train.csv'\n",
        "output_validation = '/content/history_validation.csv'\n",
        "output_test = '/content/history_test.csv'\n",
        "\n",
        "\n",
        "for user, history in enumerate(history_list):\n",
        "  ### 한 유저에 대해 train,validation,test dataset 생성\n",
        "  total_samples = len(history) # 방문 횟수 저장\n",
        "  random.shuffle(history) # 방문 기록 순서를 랜덤하게 섞어준다.\n",
        "\n",
        "  train_size = int(total_samples * train_ratio)\n",
        "  validation_size = int(total_samples * validation_ratio)\n",
        "\n",
        "  list_test = history[(train_size + validation_size):]\n",
        "  list_validation = history[train_size: (train_size + validation_size)]\n",
        "  list_train = history[:train_size]\n",
        "\n",
        "\n",
        "  train_dataset.append(list_train)\n",
        "  validation_dataset.append(list_validation)\n",
        "  test_dataset.append(list_test)\n",
        "\n",
        "with open(output_train, 'w', newline='') as csv_file:\n",
        "    csv_writer = csv.writer(csv_file)\n",
        "    csv_writer.writerows(train_dataset)\n",
        "with open(output_validation, 'w', newline='') as csv_file:\n",
        "    csv_writer = csv.writer(csv_file)\n",
        "    csv_writer.writerows(validation_dataset)\n",
        "with open(output_test, 'w', newline='') as csv_file:\n",
        "    csv_writer = csv.writer(csv_file)\n",
        "    csv_writer.writerows(test_dataset)\n"
      ],
      "metadata": {
        "id": "auxgWqTXVJDk"
      },
      "execution_count": 77,
      "outputs": []
    },
    {
      "cell_type": "code",
      "source": [
        "print(len(train_dataset), train_dataset[:5])\n",
        "print(len(validation_dataset), validation_dataset[:5])\n",
        "print(len(test_dataset), test_dataset[:5])\n",
        "\n",
        "\n",
        "# print(len(train_negative_dataset), train_negative_dataset[:5])\n",
        "# print(len(validation_negative_dataset), validation_negative_dataset[:5])\n",
        "# print(len(test_negative_dataset), test_negative_dataset[:5])"
      ],
      "metadata": {
        "id": "RPDlhI-jYzsZ",
        "colab": {
          "base_uri": "https://localhost:8080/"
        },
        "outputId": "9a841f04-fb9f-4d89-f3f8-8d152c92f0f7"
      },
      "execution_count": 78,
      "outputs": [
        {
          "output_type": "stream",
          "name": "stdout",
          "text": [
            "15919 [[11095, 11026, 1718, 5402, 13512, 1123, 6681, 4386, 11749, 7996], [13674, 14107, 10244, 7590, 13072, 12784, 8145, 3639, 8623, 13796], [1194, 13317, 10751, 11026, 12027, 2916, 442, 10011], [4589, 10933, 6605, 3951, 11013, 2420, 8209], [5152, 71, 3142, 8, 6932, 3297]]\n",
            "15919 [[8083, 1836, 6171], [6663, 2296, 5780], [7001, 12202], [1680, 6287], [11850, 5034]]\n",
            "15919 [[4479, 20, 13070, 821], [9623, 12806, 2296, 8805, 14445], [442, 7879, 8913, 2428], [4589, 9645, 9213], [13564, 10824, 14525]]\n"
          ]
        }
      ]
    },
    {
      "cell_type": "markdown",
      "source": [
        "## 지역 임베딩 데이터 생성\n",
        "NAIS 코드 완성 이후 진행 예정"
      ],
      "metadata": {
        "id": "yN8a162TTNsf"
      }
    },
    {
      "cell_type": "code",
      "source": [],
      "metadata": {
        "id": "CC2g2o5rTRAf"
      },
      "execution_count": 60,
      "outputs": []
    },
    {
      "cell_type": "markdown",
      "source": [
        "## 거리 데이터 생성"
      ],
      "metadata": {
        "id": "DRYUkhdS1KTE"
      }
    },
    {
      "cell_type": "code",
      "source": [
        "# Haversine 거리 계산 함수\n",
        "def haversine(lat1, lon1, lat2, lon2):\n",
        "    lat1, lon1, lat2, lon2 = map(np.radians, [lat1, lon1, lat2, lon2])\n",
        "    dlat = lat2 - lat1\n",
        "    dlon = lon2 - lon1\n",
        "    a = np.sin(dlat / 2) ** 2 + np.cos(lat1) * np.cos(lat2) * np.sin(dlon / 2) ** 2\n",
        "    c = 2 * np.arcsin(np.sqrt(a))\n",
        "    r = 6371  # 지구 반지름 (km)\n",
        "    return c * r"
      ],
      "metadata": {
        "id": "cJaHYH3_1Lx0"
      },
      "execution_count": 61,
      "outputs": []
    },
    {
      "cell_type": "code",
      "source": [
        "# 데이터 불러오기\n",
        "header = [\"user_id\", \"item\", \"latitude\", \"longitude\", \"city\"]\n",
        "checkin_data_with_distance = pd.read_csv('checkin_data_final.csv', names=header)\n",
        "\n",
        "checkin_data_with_distance['closest_distance'] = 0\n",
        "\n",
        "before_userID = None\n",
        "result = []\n",
        "\n",
        "#거리 계산\n",
        "for index, user_row in checkin_data_with_distance.iterrows():\n",
        "    userID = user_row['user_id']\n",
        "    if before_userID != userID:\n",
        "      same_user_df = checkin_data_with_distance[checkin_data_with_distance['user_id'] == userID]\n",
        "      before_userID = userID\n",
        "    if same_user_df.shape[0] < 10:\n",
        "      continue # 10 보다 작은건 건너띔 -> 실제로 쓰는 데이터는\n",
        "\n",
        "    user_item = user_row['item']\n",
        "    user_lat = user_row['latitude']\n",
        "    user_lon = user_row['longitude']\n",
        "    closest_distance = 9999999  # 초기값을 무한대로 설정\n",
        "\n",
        "    for poi_index, poi_row in same_user_df.iterrows():\n",
        "        poi_item = poi_row['item']\n",
        "        poi_lat = poi_row['latitude']\n",
        "        poi_lon = poi_row['longitude']\n",
        "\n",
        "        # Haversine 거리 계산\n",
        "        distance = haversine(user_lat, user_lon, poi_lat, poi_lon)\n",
        "\n",
        "        # 현재 POI와의 거리가 가장 작은지 확인\n",
        "        if distance < closest_distance and distance != 0:\n",
        "            closest_distance = distance\n",
        "            #print(closest_distance)\n",
        "\n",
        "    # 방문한 Poi가 하나밖에 없다면 거리 : 0, 근데 그런거 없음\n",
        "    if closest_distance == 9999999:\n",
        "      closest_distance = 0\n",
        "\n",
        "\n",
        "    #print(f\"{index} : {closest_distance}\")\n",
        "    result.append(closest_distance)\n",
        "\n",
        "print(result)"
      ],
      "metadata": {
        "id": "afUC4A7s2NjW",
        "colab": {
          "base_uri": "https://localhost:8080/",
          "height": 391
        },
        "outputId": "482688c1-1d12-44fc-95e9-da16f856a0d0"
      },
      "execution_count": 62,
      "outputs": [
        {
          "output_type": "error",
          "ename": "KeyboardInterrupt",
          "evalue": "ignored",
          "traceback": [
            "\u001b[0;31m---------------------------------------------------------------------------\u001b[0m",
            "\u001b[0;31mKeyboardInterrupt\u001b[0m                         Traceback (most recent call last)",
            "\u001b[0;32m<ipython-input-62-df3745aaf6b9>\u001b[0m in \u001b[0;36m<cell line: 11>\u001b[0;34m()\u001b[0m\n\u001b[1;32m     22\u001b[0m     \u001b[0mclosest_distance\u001b[0m \u001b[0;34m=\u001b[0m \u001b[0;36m9999999\u001b[0m  \u001b[0;31m# 초기값을 무한대로 설정\u001b[0m\u001b[0;34m\u001b[0m\u001b[0;34m\u001b[0m\u001b[0m\n\u001b[1;32m     23\u001b[0m \u001b[0;34m\u001b[0m\u001b[0m\n\u001b[0;32m---> 24\u001b[0;31m     \u001b[0;32mfor\u001b[0m \u001b[0mpoi_index\u001b[0m\u001b[0;34m,\u001b[0m \u001b[0mpoi_row\u001b[0m \u001b[0;32min\u001b[0m \u001b[0msame_user_df\u001b[0m\u001b[0;34m.\u001b[0m\u001b[0miterrows\u001b[0m\u001b[0;34m(\u001b[0m\u001b[0;34m)\u001b[0m\u001b[0;34m:\u001b[0m\u001b[0;34m\u001b[0m\u001b[0;34m\u001b[0m\u001b[0m\n\u001b[0m\u001b[1;32m     25\u001b[0m         \u001b[0mpoi_item\u001b[0m \u001b[0;34m=\u001b[0m \u001b[0mpoi_row\u001b[0m\u001b[0;34m[\u001b[0m\u001b[0;34m'item'\u001b[0m\u001b[0;34m]\u001b[0m\u001b[0;34m\u001b[0m\u001b[0;34m\u001b[0m\u001b[0m\n\u001b[1;32m     26\u001b[0m         \u001b[0mpoi_lat\u001b[0m \u001b[0;34m=\u001b[0m \u001b[0mpoi_row\u001b[0m\u001b[0;34m[\u001b[0m\u001b[0;34m'latitude'\u001b[0m\u001b[0;34m]\u001b[0m\u001b[0;34m\u001b[0m\u001b[0;34m\u001b[0m\u001b[0m\n",
            "\u001b[0;32m/usr/local/lib/python3.10/dist-packages/pandas/core/frame.py\u001b[0m in \u001b[0;36miterrows\u001b[0;34m(self)\u001b[0m\n\u001b[1;32m   1409\u001b[0m         \u001b[0mklass\u001b[0m \u001b[0;34m=\u001b[0m \u001b[0mself\u001b[0m\u001b[0;34m.\u001b[0m\u001b[0m_constructor_sliced\u001b[0m\u001b[0;34m\u001b[0m\u001b[0;34m\u001b[0m\u001b[0m\n\u001b[1;32m   1410\u001b[0m         \u001b[0;32mfor\u001b[0m \u001b[0mk\u001b[0m\u001b[0;34m,\u001b[0m \u001b[0mv\u001b[0m \u001b[0;32min\u001b[0m \u001b[0mzip\u001b[0m\u001b[0;34m(\u001b[0m\u001b[0mself\u001b[0m\u001b[0;34m.\u001b[0m\u001b[0mindex\u001b[0m\u001b[0;34m,\u001b[0m \u001b[0mself\u001b[0m\u001b[0;34m.\u001b[0m\u001b[0mvalues\u001b[0m\u001b[0;34m)\u001b[0m\u001b[0;34m:\u001b[0m\u001b[0;34m\u001b[0m\u001b[0;34m\u001b[0m\u001b[0m\n\u001b[0;32m-> 1411\u001b[0;31m             \u001b[0ms\u001b[0m \u001b[0;34m=\u001b[0m \u001b[0mklass\u001b[0m\u001b[0;34m(\u001b[0m\u001b[0mv\u001b[0m\u001b[0;34m,\u001b[0m \u001b[0mindex\u001b[0m\u001b[0;34m=\u001b[0m\u001b[0mcolumns\u001b[0m\u001b[0;34m,\u001b[0m \u001b[0mname\u001b[0m\u001b[0;34m=\u001b[0m\u001b[0mk\u001b[0m\u001b[0;34m)\u001b[0m\u001b[0;34m.\u001b[0m\u001b[0m__finalize__\u001b[0m\u001b[0;34m(\u001b[0m\u001b[0mself\u001b[0m\u001b[0;34m)\u001b[0m\u001b[0;34m\u001b[0m\u001b[0;34m\u001b[0m\u001b[0m\n\u001b[0m\u001b[1;32m   1412\u001b[0m             \u001b[0;32myield\u001b[0m \u001b[0mk\u001b[0m\u001b[0;34m,\u001b[0m \u001b[0ms\u001b[0m\u001b[0;34m\u001b[0m\u001b[0;34m\u001b[0m\u001b[0m\n\u001b[1;32m   1413\u001b[0m \u001b[0;34m\u001b[0m\u001b[0m\n",
            "\u001b[0;32m/usr/local/lib/python3.10/dist-packages/pandas/core/series.py\u001b[0m in \u001b[0;36m__init__\u001b[0;34m(self, data, index, dtype, name, copy, fastpath)\u001b[0m\n\u001b[1;32m    470\u001b[0m                 \u001b[0mdata\u001b[0m \u001b[0;34m=\u001b[0m \u001b[0msanitize_array\u001b[0m\u001b[0;34m(\u001b[0m\u001b[0mdata\u001b[0m\u001b[0;34m,\u001b[0m \u001b[0mindex\u001b[0m\u001b[0;34m,\u001b[0m \u001b[0mdtype\u001b[0m\u001b[0;34m,\u001b[0m \u001b[0mcopy\u001b[0m\u001b[0;34m)\u001b[0m\u001b[0;34m\u001b[0m\u001b[0;34m\u001b[0m\u001b[0m\n\u001b[1;32m    471\u001b[0m \u001b[0;34m\u001b[0m\u001b[0m\n\u001b[0;32m--> 472\u001b[0;31m                 \u001b[0mmanager\u001b[0m \u001b[0;34m=\u001b[0m \u001b[0mget_option\u001b[0m\u001b[0;34m(\u001b[0m\u001b[0;34m\"mode.data_manager\"\u001b[0m\u001b[0;34m)\u001b[0m\u001b[0;34m\u001b[0m\u001b[0;34m\u001b[0m\u001b[0m\n\u001b[0m\u001b[1;32m    473\u001b[0m                 \u001b[0;32mif\u001b[0m \u001b[0mmanager\u001b[0m \u001b[0;34m==\u001b[0m \u001b[0;34m\"block\"\u001b[0m\u001b[0;34m:\u001b[0m\u001b[0;34m\u001b[0m\u001b[0;34m\u001b[0m\u001b[0m\n\u001b[1;32m    474\u001b[0m                     \u001b[0mdata\u001b[0m \u001b[0;34m=\u001b[0m \u001b[0mSingleBlockManager\u001b[0m\u001b[0;34m.\u001b[0m\u001b[0mfrom_array\u001b[0m\u001b[0;34m(\u001b[0m\u001b[0mdata\u001b[0m\u001b[0;34m,\u001b[0m \u001b[0mindex\u001b[0m\u001b[0;34m)\u001b[0m\u001b[0;34m\u001b[0m\u001b[0;34m\u001b[0m\u001b[0m\n",
            "\u001b[0;32m/usr/local/lib/python3.10/dist-packages/pandas/_config/config.py\u001b[0m in \u001b[0;36m__call__\u001b[0;34m(self, *args, **kwds)\u001b[0m\n\u001b[1;32m    261\u001b[0m \u001b[0;34m\u001b[0m\u001b[0m\n\u001b[1;32m    262\u001b[0m     \u001b[0;32mdef\u001b[0m \u001b[0m__call__\u001b[0m\u001b[0;34m(\u001b[0m\u001b[0mself\u001b[0m\u001b[0;34m,\u001b[0m \u001b[0;34m*\u001b[0m\u001b[0margs\u001b[0m\u001b[0;34m,\u001b[0m \u001b[0;34m**\u001b[0m\u001b[0mkwds\u001b[0m\u001b[0;34m)\u001b[0m \u001b[0;34m->\u001b[0m \u001b[0mT\u001b[0m\u001b[0;34m:\u001b[0m\u001b[0;34m\u001b[0m\u001b[0;34m\u001b[0m\u001b[0m\n\u001b[0;32m--> 263\u001b[0;31m         \u001b[0;32mreturn\u001b[0m \u001b[0mself\u001b[0m\u001b[0;34m.\u001b[0m\u001b[0m__func__\u001b[0m\u001b[0;34m(\u001b[0m\u001b[0;34m*\u001b[0m\u001b[0margs\u001b[0m\u001b[0;34m,\u001b[0m \u001b[0;34m**\u001b[0m\u001b[0mkwds\u001b[0m\u001b[0;34m)\u001b[0m\u001b[0;34m\u001b[0m\u001b[0;34m\u001b[0m\u001b[0m\n\u001b[0m\u001b[1;32m    264\u001b[0m \u001b[0;34m\u001b[0m\u001b[0m\n\u001b[1;32m    265\u001b[0m     \u001b[0;31m# error: Signature of \"__doc__\" incompatible with supertype \"object\"\u001b[0m\u001b[0;34m\u001b[0m\u001b[0;34m\u001b[0m\u001b[0m\n",
            "\u001b[0;31mKeyboardInterrupt\u001b[0m: "
          ]
        }
      ]
    },
    {
      "cell_type": "code",
      "source": [
        "# 리스트를 Pandas DataFrame으로 변환\n",
        "data = pd.DataFrame(result, columns=['distance'])\n",
        "\n",
        "# 결과 출력\n",
        "print(data)\n",
        "data.to_csv('/content/distance_list.csv', index=False)"
      ],
      "metadata": {
        "id": "wJ0Sd60U73xb"
      },
      "execution_count": null,
      "outputs": []
    },
    {
      "cell_type": "code",
      "source": [
        "import matplotlib.pyplot as plt\n",
        "import torch\n",
        "import torch.nn as nn\n",
        "import torch.optim as optim\n",
        "import numpy as np\n",
        "import pandas as pd\n",
        "import matplotlib.pyplot as plt\n",
        "\n",
        "data['rounded_distance'] = data['distance'].round(1)\n",
        "# 로그를 취할 열 추가(ground_truth)\n",
        "data['log_rounded_distance'] = np.log2(data['rounded_distance'])\n",
        "data = data[data['log_rounded_distance'] != -np.inf] #반올림 결과가 0인 데이터 95183개 삭제\n",
        "\n",
        "distance_counts = data['log_rounded_distance'].value_counts() # 거리별 방문횟수 저장\n",
        "distance_counts.iloc[0] += 95183 # 0인 애들을 카운트가 가장 많은, 즉 가장 가까운 곳으로 다 더해줌\n",
        "\n",
        "total_counts = distance_counts.sum()\n",
        "\n",
        "print(distance_counts)\n",
        "print(\"Counts의 합:\", total_counts)\n",
        "\n",
        "x1 = distance_counts.index # log2(distance)\n",
        "y1 = np.log2(distance_counts.values / total_counts)\n",
        "\n",
        "print(x1)\n",
        "print(y1)\n",
        "\n",
        "# 그래프 그리기\n",
        "plt.figure(figsize=(10, 6))  # 그래프 크기 설정 (선택 사항)\n",
        "plt.scatter(x1, y1)\n",
        "plt.xlabel('Rounded Closest Distance(log sacale)')\n",
        "plt.ylabel('Prob(log sacale)')\n",
        "plt.title('Distribution of Rounded Closest Distance(log scale)')\n",
        "#plt.ylim(0, 0.005)\n",
        "#plt.xlim(0,1)\n",
        "plt.xticks(rotation=45)  # x축 레이블 회전 (선택 사항)\n",
        "plt.show()"
      ],
      "metadata": {
        "id": "Cp_eim3C9zYs"
      },
      "execution_count": null,
      "outputs": []
    },
    {
      "cell_type": "code",
      "source": [
        "import torch\n",
        "import torch.nn\n",
        "\n",
        "X = torch.tensor(x1, dtype=torch.float32).view(-1, 1)\n",
        "y = torch.tensor(y1, dtype=torch.float32).view(-1, 1)  # 확률, 2D 텐서로 변환"
      ],
      "metadata": {
        "id": "4pimdBglZfvI"
      },
      "execution_count": null,
      "outputs": []
    },
    {
      "cell_type": "code",
      "source": [
        "# 모델 정의\n",
        "class MyModel(nn.Module):\n",
        "    def __init__(self):\n",
        "        super(MyModel, self).__init__()\n",
        "        self.w1 = nn.Parameter(torch.randn(1, requires_grad=True))\n",
        "        self.w2 = nn.Parameter(torch.randn(1, requires_grad=True))\n",
        "\n",
        "    def forward(self, x):\n",
        "        return self.w1 + self.w2 * x\n",
        "\n",
        "model = MyModel()\n",
        "criterion = nn.MSELoss()  # 평균 제곱 오차 손실 함수\n",
        "optimizer = optim.SGD(model.parameters(), lr=0.01)  # 확률적 경사 하강법 사용\n",
        "\n",
        "# 학습\n",
        "num_epochs = 1000  # 학습 에포크 수\n",
        "for epoch in range(num_epochs):\n",
        "    optimizer.zero_grad()\n",
        "    outputs = model(X)\n",
        "    loss = criterion(outputs, y)\n",
        "    loss.backward()\n",
        "    optimizer.step()\n",
        "\n",
        "    #if (epoch + 1) % 100 == 0:\n",
        "    print(f'Epoch [{epoch + 1}/{num_epochs}], Loss: {loss.item():.4f}')\n",
        "\n",
        "# 학습된 파라미터 출력\n",
        "print(f'학습된 파라미터 w1: {model.w1.item():.4f}, w2: {model.w2.item():.4f}')"
      ],
      "metadata": {
        "id": "ZQO13Q-LZR_b"
      },
      "execution_count": null,
      "outputs": []
    },
    {
      "cell_type": "code",
      "source": [
        "# 선형 회귀 결과를 그래프로 표현\n",
        "plt.figure(figsize=(10, 6))\n",
        "\n",
        "plt.scatter(x1, y1)\n",
        "\n",
        "# 선형 회귀 결과\n",
        "plt.plot(X, model.w1.item() + model.w2.item() * X , color='red', label='Linear Regression')\n",
        "\n",
        "plt.xlabel('Rounded Closest Distance')\n",
        "plt.ylabel('Prob')\n",
        "plt.title('y에 log 씌운 것')\n",
        "plt.xticks(rotation=45)\n",
        "\n",
        "plt.legend()\n",
        "plt.show()"
      ],
      "metadata": {
        "id": "VqRIhTV0Z5zp"
      },
      "execution_count": null,
      "outputs": []
    },
    {
      "cell_type": "code",
      "source": [
        "b = model.w2.item()\n",
        "#a = np.exp(model.w1.item())\n",
        "a = 2 ** model.w1.item()\n",
        "\n",
        "print(a,b)\n",
        "\n",
        "x1 = np.arange(40)\n",
        "x = x1 + 0.5\n",
        "#print(x)\n",
        "y = a * (x**b)\n",
        "print(y)"
      ],
      "metadata": {
        "id": "cBYqWsJOce-w"
      },
      "execution_count": null,
      "outputs": []
    }
  ]
}