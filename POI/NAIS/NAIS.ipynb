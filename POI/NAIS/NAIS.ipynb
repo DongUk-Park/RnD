{
  "nbformat": 4,
  "nbformat_minor": 0,
  "metadata": {
    "colab": {
      "provenance": [],
      "toc_visible": true,
      "authorship_tag": "ABX9TyOBcCvydoZnJ14+G5DOGvEM",
      "include_colab_link": true
    },
    "kernelspec": {
      "name": "python3",
      "display_name": "Python 3"
    },
    "language_info": {
      "name": "python"
    }
  },
  "cells": [
    {
      "cell_type": "markdown",
      "metadata": {
        "id": "view-in-github",
        "colab_type": "text"
      },
      "source": [
        "<a href=\"https://colab.research.google.com/github/DongUk-Park/RnD/blob/main/POI/NAIS/NAIS.ipynb\" target=\"_parent\"><img src=\"https://colab.research.google.com/assets/colab-badge.svg\" alt=\"Open In Colab\"/></a>"
      ]
    },
    {
      "cell_type": "markdown",
      "source": [
        "## Import Libraries"
      ],
      "metadata": {
        "id": "MmJe4YiGrdB4"
      }
    },
    {
      "cell_type": "code",
      "source": [
        "import csv\n",
        "import numpy as np\n",
        "import pandas as pd\n",
        "import torch\n",
        "import numpy as np\n",
        "import torch.nn as nn\n",
        "import torch.optim as optim\n",
        "import time"
      ],
      "metadata": {
        "id": "L7ISab2XUBWu"
      },
      "execution_count": 1,
      "outputs": []
    },
    {
      "cell_type": "markdown",
      "source": [
        "## Data Utils"
      ],
      "metadata": {
        "id": "eHtVftt-mF8l"
      }
    },
    {
      "cell_type": "code",
      "source": [
        "def load_data():\n",
        "  train_dataset_path = '/content/history_train.csv'\n",
        "  validation_dataset_path = '/content/history_validation.csv'\n",
        "  test_dataset_path = '/content/history_test.csv'\n",
        "\n",
        "  train_history_data = []\n",
        "  validation_history_data = []\n",
        "  test_history_data = []\n",
        "\n",
        "  with open(train_dataset_path, 'r', newline='') as csv_train:\n",
        "      csv_reader = csv.reader(csv_train)\n",
        "      header = next(csv_reader)  # 헤더 행, 실제론 data 바로 들어옴\n",
        "      header = [int(item) for item in header]\n",
        "      train_history_data.append(header)\n",
        "      for row in csv_reader:\n",
        "          r = [int(item) for item in row]\n",
        "          train_history_data.append(r)\n",
        "\n",
        "  with open(validation_dataset_path, 'r', newline='') as csv_validation:\n",
        "      csv_reader = csv.reader(csv_validation)\n",
        "      header = next(csv_reader)  # 헤더 행, 실제론 data 바로 들어옴\n",
        "      header = [int(item) for item in header]\n",
        "      validation_history_data.append(header)\n",
        "      for row in csv_reader:\n",
        "          r = [int(item) for item in row]\n",
        "          validation_history_data.append(r)\n",
        "\n",
        "  with open(test_dataset_path, 'r', newline='') as csv_test:\n",
        "      csv_reader = csv.reader(csv_test)\n",
        "      header = next(csv_reader)  # 헤더 행, 실제론 data 바로 들어옴\n",
        "      header = [int(item) for item in header]\n",
        "      test_history_data.append(header)\n",
        "      for row in csv_reader:\n",
        "          r = [int(item) for item in row]\n",
        "          test_history_data.append(r)\n",
        "  business_id_info = pd.read_csv('/content/business_info_in_philadelphia.csv')\n",
        "  item_list = business_id_info.index.tolist()\n",
        "\n",
        "\n",
        "  # print(\"여기는 함수한\")\n",
        "  # print(business_id_info)\n",
        "  # print(item_list)\n",
        "  # print(train_history_data[0])\n",
        "\n",
        "  num_users = len(train_history_data) # 필라델피아의 사용자 수 : 15919명\n",
        "  num_items = business_id_info.shape[0] # 필라델피아의 가게 수 : 14603개 , 마지막 business_id : 150336\n",
        "  return item_list, num_users, num_items, train_history_data, validation_history_data, test_history_data"
      ],
      "metadata": {
        "id": "hlCC-gvCTdPE"
      },
      "execution_count": 27,
      "outputs": []
    },
    {
      "cell_type": "code",
      "source": [
        "def get_train_data_user(item_list, num_users, train_list, num_negatives):\n",
        "    \"\"\"\n",
        "    학습데이터를 확인하고 num_negatives만큼의 negative데이터를 뽑아내 학습에 사용\n",
        "    negative sample\n",
        "    \"\"\"\n",
        "    num_items = len(item_list)\n",
        "    user_input, item_input, labels, batch_length = [],[],[],[]\n",
        "\n",
        "    for u in range(num_users):\n",
        "       np.random.shuffle(train_list[u])\n",
        "       if u == 0:\n",
        "           batch_length.append((1+num_negatives) * len(train_list[u]))\n",
        "       else:\n",
        "           batch_length.append((1+num_negatives) * len(train_list[u])+batch_length[u-1])\n",
        "\n",
        "       for i in train_list[u]:\n",
        "            # positive instance\n",
        "            user_input.append(u)\n",
        "            item_input.append(i)\n",
        "            labels.append(1)\n",
        "            # negative instances\n",
        "            for t in range(num_negatives):\n",
        "                j_idx = np.random.randint(0, num_items) # num_items == len(item_list), item_list에서 Negative sample을 골라야하기 때문에 인덱스를 골라줌\n",
        "                j = item_list[j_idx]\n",
        "                while j in train_list[u]:\n",
        "                    j_idx = np.random.randint(0, num_items)\n",
        "                    j = item_list[j_idx]\n",
        "                user_input.append(u)\n",
        "                item_input.append(j)\n",
        "                labels.append(0)\n",
        "    return user_input, item_input, labels, batch_length\n",
        "\n",
        "def get_input_data(batch_length, train_list, user_input, item_input, batch):\n",
        "    \"\"\"\n",
        "    recall, precision을 위한 입력 데이터 생성\n",
        "    \"\"\"\n",
        "    p=0\n",
        "    target_idx = []\n",
        "    if batch == 0:\n",
        "        p = 0\n",
        "    else:\n",
        "        p = batch_length[batch-1] # p : 지난 배치를 지나감\n",
        "\n",
        "    target_idx = item_input[p:batch_length[batch]]\n",
        "\n",
        "    temp = set(train_list[user_input[p]])\n",
        "\n",
        "    history = []\n",
        "    for idx in range(batch_length[batch]-p):\n",
        "        history.append(list(temp))\n",
        "    p=batch_length[batch]\n",
        "\n",
        "    return history, target_idx\n"
      ],
      "metadata": {
        "id": "deyoQ4KUfdj6"
      },
      "execution_count": 10,
      "outputs": []
    },
    {
      "cell_type": "markdown",
      "source": [
        "## Evaluate"
      ],
      "metadata": {
        "id": "ctZorxdFmCet"
      }
    },
    {
      "cell_type": "code",
      "source": [
        "def eval(model, num_users, testPositives, history_list, target_idx_list):\n",
        "    model.eval()\n",
        "    hit = [0,0,0,0,0]\n",
        "    precision = [0,0,0,0,0]\n",
        "    recall = [0,0,0,0,0]\n",
        "\n",
        "    k=[10,20,30,40,50]\n",
        "    a = 0.9\n",
        "\n",
        "    with torch.no_grad():\n",
        "        for u in range(num_users):\n",
        "            count = 0\n",
        "            history = history_list[u]\n",
        "            target_idx = target_idx_list[u]\n",
        "            results=model(history, target_idx)\n",
        "\n",
        "            for i in range(len(k)):\n",
        "                topk = torch.topk(results,k[i])\n",
        "                topSet = set(target_idx[topk.indices.tolist()])\n",
        "\n",
        "                positives = set(testPositives[u])\n",
        "                count = len(topSet & positives)\n",
        "\n",
        "                precision[i] += (count/k[i])\n",
        "                recall[i] += (count/len(testPositives[u]))\n",
        "                if count >0:\n",
        "                    hit[i] += 1\n",
        "\n",
        "        for i in range(len(k)):\n",
        "            recall[i]/= num_users\n",
        "            precision[i]/= num_users\n",
        "            hit[i]/= num_users\n",
        "\n",
        "    return recall , precision, hit\n"
      ],
      "metadata": {
        "id": "FNTxkywNgxGE"
      },
      "execution_count": 28,
      "outputs": []
    },
    {
      "cell_type": "markdown",
      "source": [
        "## Train"
      ],
      "metadata": {
        "id": "klwMxeaGmPND"
      }
    },
    {
      "cell_type": "code",
      "execution_count": 44,
      "metadata": {
        "id": "-7UhlqAISMxx"
      },
      "outputs": [],
      "source": [
        "def train(model, epoch, history, user_input, item_input, labels, batch_length, optimizer, validation_history_data, user_input_validation, item_input_validation, labels_validation, batch_length_validation, test_history_data):\n",
        "    loss_func = nn.BCELoss()\n",
        "    before_loss = 210000000.0\n",
        "    max_re = 0.0\n",
        "\n",
        "    recall = []\n",
        "    prec = []\n",
        "    hit = []\n",
        "\n",
        "    for e in range(epoch):\n",
        "        model.train()\n",
        "        train_loss = 0.0\n",
        "        start_time = int(time.time())\n",
        "\n",
        "        p = 0 # 지난 배치는 지나가도록 확인해주는 변수\n",
        "\n",
        "        for b in range(len(batch_length)): # user 수 만큼 반복\n",
        "          print(f\"User : {b}\")\n",
        "          batch_size = batch_length[b]\n",
        "          user = []\n",
        "          for i in range(5): # 5 : negative_num + 1\n",
        "            user.extend(history[b])\n",
        "\n",
        "          #print(f\"user_len : {len(user)}\")\n",
        "          #print(f\"p: {p}, batch_size : {batch_size}\")\n",
        "          item = item_input[p:batch_size]\n",
        "\n",
        "          optimizer.zero_grad()\n",
        "          prediction = model(user, item)\n",
        "          temp = torch.tensor(labels[p:batch_size], dtype=torch.float32)\n",
        "          loss = model.loss_func(prediction,temp)\n",
        "\n",
        "          p = batch_size # p 업데이트\n",
        "          loss.backward()\n",
        "          train_loss += loss.item()\n",
        "          optimizer.step()\n",
        "\n",
        "        end_time = int(time.time())\n",
        "\n",
        "        print(\"Train Epoch: {}; time: {} sec; loss: {:.4f}\".format(e+1, end_time-start_time,train_loss))\n",
        "\n",
        "        re,pr,hi = eval(model, num_users, validation_history_data, train_history_data, item_input_validation)\n",
        "        recall.append(re)\n",
        "        prec.append(pr)\n",
        "        hit.append(hi)\n",
        "\n",
        "        print(\"recall: {} precision: {} hit: {};\".format( re[0],pr[0],hi[0]))\n",
        "        re,pr,hi,re_d,pr_d,hi_d = eval(model,num_users, test_history_data, train_history_data, item_input_test)\n",
        "\n",
        "        recall.append(re)\n",
        "        prec.append(pr)\n",
        "        hit.append(hi)\n",
        "\n",
        "\n",
        "        end_time = int(time.time())\n",
        "        print(\"time: {} sec;\".format( end_time-start_time))\n",
        "\n",
        "    return recall , prec, hit\n"
      ]
    },
    {
      "cell_type": "markdown",
      "source": [
        "## NAIS Model Define"
      ],
      "metadata": {
        "id": "CI9LixjzmEVl"
      }
    },
    {
      "cell_type": "code",
      "source": [
        "class NAIS_basic(nn.Module):\n",
        "    def __init__(self, item_num, embed_size, beta): # embed_size : 64, beta : 0.5\n",
        "        super(NAIS_basic, self).__init__()\n",
        "        self.embed_size = embed_size # concat 연산 시 * 2\n",
        "        self.item_num = item_num\n",
        "        self.beta = beta\n",
        "\n",
        "        self.embed_history = nn.Embedding(item_num, embed_size) # (m:14603 * d:64), 과거 방문한 데이터(q), 유저별로 각각 하나씩 가져야하나 ?\n",
        "        self.embed_target = nn.Embedding(item_num, embed_size) # (m:14603 * d:64), 예측 데이터(p)\n",
        "\n",
        "\n",
        "        self.relu = nn.ReLU()\n",
        "        self.sigmoid = nn.Sigmoid()\n",
        "        self.loss_func = nn.BCELoss() # binary cross entropy\n",
        "\n",
        "        # Attention을 위한 MLP Layer 생성\n",
        "        self.attn_layer1 = nn.Linear(embed_size, embed_size)\n",
        "        self.attn_layer2 = nn.Linear(embed_size, 1, bias = False)\n",
        "\n",
        "        self._init_weight_()\n",
        "\n",
        "    def _init_weight_(self):\n",
        "        # weight 초기화, 표준편차 : 0.01\n",
        "        nn.init.normal_(self.embed_history.weight, std=0.01)\n",
        "        nn.init.normal_(self.embed_target.weight, std=0.01)\n",
        "\n",
        "        # bias 초기화\n",
        "        for m in self.modules():\n",
        "            if isinstance(m, nn.Linear) and m.bias is not None:\n",
        "                m.bias.data.zero_()\n",
        "\n",
        "    def forward(self, history, target):\n",
        "        #배치 사이즈만큼 잘라서 넣어줌\n",
        "        #print(len(history), len(target))\n",
        "        history_idx = torch.LongTensor(history)\n",
        "        target_idx = torch.LongTensor(target)\n",
        "        prediction = self.attention_network(history_idx,target_idx)\n",
        "        return self.relu(prediction)\n",
        "\n",
        "    def attention_network(self, user_history, target_item):\n",
        "        \"\"\"\n",
        "        b: batch size\n",
        "        n: history size\n",
        "        d: embedding size\n",
        "        \"\"\"\n",
        "        #print(\"#### def attention network start #####\")\n",
        "        #print(len(user_history), user_history)\n",
        "        #print(len(target_item), target_item)\n",
        "\n",
        "        history = self.embed_history(user_history) # (b * n * d)\n",
        "        target = self.embed_target(target_item) # (b * 1 * d)\n",
        "        batch_dim = len(target)\n",
        "\n",
        "        #print(\"#### embedding finished\")\n",
        "        #print(history.shape)\n",
        "        #print(target.shape)\n",
        "        #print(batch_dim)\n",
        "\n",
        "        target = torch.reshape(target,(batch_dim, 1,-1))\n",
        "        input = history * target # (b * n * d)\n",
        "\n",
        "\n",
        "        #print(\"#### attention layer start\")\n",
        "        attention_result = self.relu(self.attn_layer1(input)) # (n * d)\n",
        "        attention_result = self.attn_layer2(attention_result) # (n * 1)\n",
        "\n",
        "        exp_A = torch.exp(attention_result) # (b * n * 1)\n",
        "        exp_A = exp_A.squeeze(dim=-1)# (b * n)\n",
        "\n",
        "        mask = self.get_mask(user_history,target_item)\n",
        "        exp_A = exp_A * mask\n",
        "        exp_sum = torch.sum(exp_A,dim=-1) # (b * 1)\n",
        "        exp_sum = torch.pow(exp_sum, self.beta) # (b * 1)\n",
        "\n",
        "        attn_weights = torch.divide(exp_A.T,exp_sum).T # (b * n)\n",
        "        attn_weights = attn_weights.reshape([batch_dim,-1, 1])# (b * n * 1)\n",
        "        result = history * attn_weights# (b * n * d)\n",
        "        target = target.reshape([batch_dim,-1,1]) # (b * d * 1)\n",
        "\n",
        "        prediction = torch.bmm(result, target).squeeze(dim=-1) # (b * n * 1) -> (b * n)\n",
        "        prediction = torch.sum(prediction, dim = -1) # (b)\n",
        "        #print(f\"#### return prediction{prediction.shape}\")\n",
        "        return prediction\n",
        "\n",
        "    def get_mask(self, user_history, target_item):\n",
        "        target_item = target_item.reshape([len(target_item),1])\n",
        "        mask = user_history != target_item\n",
        "        return mask\n",
        "    def loss_function(self, prediction, label):\n",
        "        return self.loss_func(prediction, label)"
      ],
      "metadata": {
        "id": "glIwKYS8tr8T"
      },
      "execution_count": 45,
      "outputs": []
    },
    {
      "cell_type": "markdown",
      "source": [
        "## Main"
      ],
      "metadata": {
        "id": "FS89rjTrmQhj"
      }
    },
    {
      "cell_type": "code",
      "source": [
        "if __name__ == \"__main__\":\n",
        "    # USE_CUDA = torch.cuda.is_available()\n",
        "    # DEVICE = torch.device(\"cuda\" if USE_CUDA else \"cpu\")\n",
        "    #print(\"사용하는 Device : \", DEVICE)\n",
        "    epoch = 40\n",
        "    num_negatives = 4\n",
        "\n",
        "    item_list, num_users, num_items, train_history_data, validation_history_data, test_history_data = load_data()\n",
        "    user_input_train, item_input_train, labels_train, batch_length_train = get_train_data_user(item_list, num_users, train_history_data, num_negatives)\n",
        "    user_input_validation, item_input_validation, labels_validation, batch_length_validation = get_train_data_user(item_list, num_users, validation_history_data, num_negatives)\n",
        "    user_input_test, item_input_test, labels_test, batchlength_test = get_train_data_user(item_list, num_users, test_history_data, num_negatives)\n",
        "    print(num_items, num_users)\n",
        "    print(len(item_list), item_list[0], item_list[-1])\n",
        "\n",
        "    for i in range(5):\n",
        "        nais_model_name = \"NAIS_basic_product\"\n",
        "\n",
        "        nais_model = NAIS_basic(num_items, 64, 0.5) # num_items, embed_size, beta\n",
        "        optimizer1 = optim.Adagrad(nais_model.parameters(), lr=0.005, weight_decay=0.001)\n",
        "        print(nais_model_name + \" model\")\n",
        "\n",
        "        recall, prec, hit, recall_d, prec_d, hit_d = train(nais_model, epoch, train_history_data, user_input_train, item_input_train, labels_train, batch_length_train, optimizer1, validation_history_data, user_input_validation, item_input_validation, labels_validation, batch_length_validation, test_history_data)\n",
        "\n",
        "        with open(\"/content/result/\"+nais_model_name+ str(i)+\".txt\", mode='wt') as f:\n",
        "          for g in range(len(recall)):\n",
        "              f.write(\"epoch: \"+str((g+1))+\"-----------------------------------------\\n\")\n",
        "              f.write(\"recall:\"+ str( recall[g])+\", precision: \"+ str(prec[g])+\", hit: \"+ str(hit[g])+\"\\n\")\n"
      ],
      "metadata": {
        "colab": {
          "base_uri": "https://localhost:8080/"
        },
        "id": "CGUAkoS3dlFr",
        "outputId": "3b440964-bdbf-45ce-bdde-d0c6cea95664"
      },
      "execution_count": null,
      "outputs": [
        {
          "output_type": "stream",
          "name": "stdout",
          "text": [
            "14585 15919\n",
            "14585 0 14584\n",
            "NAIS_basic_product model\n",
            "User : 0\n",
            "User : 1\n",
            "User : 2\n",
            "User : 3\n",
            "User : 4\n",
            "User : 5\n",
            "User : 6\n",
            "User : 7\n",
            "User : 8\n",
            "User : 9\n",
            "User : 10\n",
            "User : 11\n",
            "User : 12\n",
            "User : 13\n",
            "User : 14\n",
            "User : 15\n",
            "User : 16\n",
            "User : 17\n",
            "User : 18\n",
            "User : 19\n",
            "User : 20\n",
            "User : 21\n",
            "User : 22\n",
            "User : 23\n",
            "User : 24\n",
            "User : 25\n",
            "User : 26\n",
            "User : 27\n",
            "User : 28\n",
            "User : 29\n",
            "User : 30\n",
            "User : 31\n",
            "User : 32\n",
            "User : 33\n",
            "User : 34\n",
            "User : 35\n",
            "User : 36\n",
            "User : 37\n",
            "User : 38\n",
            "User : 39\n",
            "User : 40\n",
            "User : 41\n",
            "User : 42\n",
            "User : 43\n",
            "User : 44\n",
            "User : 45\n",
            "User : 46\n",
            "User : 47\n",
            "User : 48\n",
            "User : 49\n",
            "User : 50\n",
            "User : 51\n",
            "User : 52\n",
            "User : 53\n",
            "User : 54\n",
            "User : 55\n",
            "User : 56\n",
            "User : 57\n",
            "User : 58\n",
            "User : 59\n",
            "User : 60\n",
            "User : 61\n",
            "User : 62\n",
            "User : 63\n",
            "User : 64\n",
            "User : 65\n",
            "User : 66\n",
            "User : 67\n",
            "User : 68\n",
            "User : 69\n",
            "User : 70\n",
            "User : 71\n",
            "User : 72\n",
            "User : 73\n",
            "User : 74\n",
            "User : 75\n",
            "User : 76\n",
            "User : 77\n",
            "User : 78\n",
            "User : 79\n",
            "User : 80\n",
            "User : 81\n",
            "User : 82\n",
            "User : 83\n",
            "User : 84\n",
            "User : 85\n",
            "User : 86\n",
            "User : 87\n",
            "User : 88\n",
            "User : 89\n",
            "User : 90\n"
          ]
        }
      ]
    },
    {
      "cell_type": "code",
      "source": [
        "t_li = [11471,  5473,  3206,  9111,  7140, 12063,  5755, 12509,  5629,  1838,\n",
        "        10311,  3560,  4583, 14585,  3676,  8564,  3397, 14471,  7808,  9060,\n",
        "         6653,  1037,  4198,  6694,  7696,  9982,  6613,  2436,  8214,  3028]\n",
        "t_li.sort()\n",
        "print(t_li)"
      ],
      "metadata": {
        "colab": {
          "base_uri": "https://localhost:8080/"
        },
        "id": "u9CQ7cYKvqy-",
        "outputId": "22933d99-b2db-4c34-8780-f35ab6092257"
      },
      "execution_count": 20,
      "outputs": [
        {
          "output_type": "stream",
          "name": "stdout",
          "text": [
            "[1037, 1838, 2436, 3028, 3206, 3397, 3560, 3676, 4198, 4583, 5473, 5629, 5755, 6613, 6653, 6694, 7140, 7696, 7808, 8214, 8564, 9060, 9111, 9982, 10311, 11471, 12063, 12509, 14471, 14585]\n"
          ]
        }
      ]
    },
    {
      "cell_type": "code",
      "source": [],
      "metadata": {
        "id": "BMS2Hpjg1nO5"
      },
      "execution_count": 19,
      "outputs": []
    }
  ]
}