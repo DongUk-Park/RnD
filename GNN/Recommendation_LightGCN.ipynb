{
  "nbformat": 4,
  "nbformat_minor": 0,
  "metadata": {
    "colab": {
      "provenance": [],
      "gpuType": "T4",
      "authorship_tag": "ABX9TyOg5qqkZUjKDQ8XFIGdco5P",
      "include_colab_link": true
    },
    "kernelspec": {
      "name": "python3",
      "display_name": "Python 3"
    },
    "language_info": {
      "name": "python"
    },
    "accelerator": "GPU"
  },
  "cells": [
    {
      "cell_type": "markdown",
      "metadata": {
        "id": "view-in-github",
        "colab_type": "text"
      },
      "source": [
        "<a href=\"https://colab.research.google.com/github/DongUk-Park/RnD/blob/main/GNN/Recommendation_LightGCN.ipynb\" target=\"_parent\"><img src=\"https://colab.research.google.com/assets/colab-badge.svg\" alt=\"Open In Colab\"/></a>"
      ]
    },
    {
      "cell_type": "markdown",
      "source": [
        "# Data"
      ],
      "metadata": {
        "id": "xCdBZw3JAo2s"
      }
    },
    {
      "cell_type": "markdown",
      "source": [
        "## Data Load & Explore"
      ],
      "metadata": {
        "id": "ONcWCF_qCqLs"
      }
    },
    {
      "cell_type": "code",
      "execution_count": 7,
      "metadata": {
        "id": "ZRSPw5i14JKA"
      },
      "outputs": [],
      "source": [
        "import torch\n",
        "!pip install -q torch-scatter~=2.1.0 torch-sparse~=0.6.16 torch-cluster~=1.6.0 torch-spline-conv~=1.2.1 torch-geometric==2.2.0 -f https://data.pyg.org/whl/torch-{torch.__version__}.html\n",
        "\n",
        "torch.manual_seed(0)\n",
        "torch.cuda.manual_seed(0)\n",
        "torch.cuda.manual_seed_all(0)\n",
        "torch.backends.cudnn.deterministic = True\n",
        "torch.backends.cudnn.benchmark = False"
      ]
    },
    {
      "cell_type": "code",
      "source": [
        "import pandas as pd\n",
        "\n",
        "ratings = pd.read_csv('Ratings.csv', sep=';', encoding='latin-1')\n",
        "users = pd.read_csv('Users.csv', sep=';', encoding='latin-1')\n",
        "books = pd.read_csv('Books.csv', sep=';', encoding='latin-1', error_bad_lines=False)"
      ],
      "metadata": {
        "colab": {
          "base_uri": "https://localhost:8080/"
        },
        "id": "qtGhL2DS6w1S",
        "outputId": "a09f7796-e1a7-4410-e622-de3727f1fa32"
      },
      "execution_count": 8,
      "outputs": [
        {
          "output_type": "stream",
          "name": "stderr",
          "text": [
            "<ipython-input-8-1828c9003b51>:4: DtypeWarning: Columns (0) have mixed types. Specify dtype option on import or set low_memory=False.\n",
            "  users = pd.read_csv('Users.csv', sep=';', encoding='latin-1')\n",
            "<ipython-input-8-1828c9003b51>:5: FutureWarning: The error_bad_lines argument has been deprecated and will be removed in a future version. Use on_bad_lines in the future.\n",
            "\n",
            "\n",
            "  books = pd.read_csv('Books.csv', sep=';', encoding='latin-1', error_bad_lines=False)\n"
          ]
        }
      ]
    },
    {
      "cell_type": "code",
      "source": [
        "ratings"
      ],
      "metadata": {
        "colab": {
          "base_uri": "https://localhost:8080/",
          "height": 424
        },
        "id": "-0wovlfQAR3T",
        "outputId": "80c1986b-6e64-4933-cfdd-fd2e8606538b"
      },
      "execution_count": 9,
      "outputs": [
        {
          "output_type": "execute_result",
          "data": {
            "text/plain": [
              "         User-ID         ISBN  Rating\n",
              "0         276725   034545104X       0\n",
              "1         276726   0155061224       5\n",
              "2         276727   0446520802       0\n",
              "3         276729   052165615X       3\n",
              "4         276729   0521795028       6\n",
              "...          ...          ...     ...\n",
              "1149775   276704   1563526298       9\n",
              "1149776   276706   0679447156       0\n",
              "1149777   276709   0515107662      10\n",
              "1149778   276721   0590442449      10\n",
              "1149779   276723  05162443314       8\n",
              "\n",
              "[1149780 rows x 3 columns]"
            ],
            "text/html": [
              "\n",
              "  <div id=\"df-c1f06e22-2621-467f-b507-6a124d2a2520\" class=\"colab-df-container\">\n",
              "    <div>\n",
              "<style scoped>\n",
              "    .dataframe tbody tr th:only-of-type {\n",
              "        vertical-align: middle;\n",
              "    }\n",
              "\n",
              "    .dataframe tbody tr th {\n",
              "        vertical-align: top;\n",
              "    }\n",
              "\n",
              "    .dataframe thead th {\n",
              "        text-align: right;\n",
              "    }\n",
              "</style>\n",
              "<table border=\"1\" class=\"dataframe\">\n",
              "  <thead>\n",
              "    <tr style=\"text-align: right;\">\n",
              "      <th></th>\n",
              "      <th>User-ID</th>\n",
              "      <th>ISBN</th>\n",
              "      <th>Rating</th>\n",
              "    </tr>\n",
              "  </thead>\n",
              "  <tbody>\n",
              "    <tr>\n",
              "      <th>0</th>\n",
              "      <td>276725</td>\n",
              "      <td>034545104X</td>\n",
              "      <td>0</td>\n",
              "    </tr>\n",
              "    <tr>\n",
              "      <th>1</th>\n",
              "      <td>276726</td>\n",
              "      <td>0155061224</td>\n",
              "      <td>5</td>\n",
              "    </tr>\n",
              "    <tr>\n",
              "      <th>2</th>\n",
              "      <td>276727</td>\n",
              "      <td>0446520802</td>\n",
              "      <td>0</td>\n",
              "    </tr>\n",
              "    <tr>\n",
              "      <th>3</th>\n",
              "      <td>276729</td>\n",
              "      <td>052165615X</td>\n",
              "      <td>3</td>\n",
              "    </tr>\n",
              "    <tr>\n",
              "      <th>4</th>\n",
              "      <td>276729</td>\n",
              "      <td>0521795028</td>\n",
              "      <td>6</td>\n",
              "    </tr>\n",
              "    <tr>\n",
              "      <th>...</th>\n",
              "      <td>...</td>\n",
              "      <td>...</td>\n",
              "      <td>...</td>\n",
              "    </tr>\n",
              "    <tr>\n",
              "      <th>1149775</th>\n",
              "      <td>276704</td>\n",
              "      <td>1563526298</td>\n",
              "      <td>9</td>\n",
              "    </tr>\n",
              "    <tr>\n",
              "      <th>1149776</th>\n",
              "      <td>276706</td>\n",
              "      <td>0679447156</td>\n",
              "      <td>0</td>\n",
              "    </tr>\n",
              "    <tr>\n",
              "      <th>1149777</th>\n",
              "      <td>276709</td>\n",
              "      <td>0515107662</td>\n",
              "      <td>10</td>\n",
              "    </tr>\n",
              "    <tr>\n",
              "      <th>1149778</th>\n",
              "      <td>276721</td>\n",
              "      <td>0590442449</td>\n",
              "      <td>10</td>\n",
              "    </tr>\n",
              "    <tr>\n",
              "      <th>1149779</th>\n",
              "      <td>276723</td>\n",
              "      <td>05162443314</td>\n",
              "      <td>8</td>\n",
              "    </tr>\n",
              "  </tbody>\n",
              "</table>\n",
              "<p>1149780 rows × 3 columns</p>\n",
              "</div>\n",
              "    <div class=\"colab-df-buttons\">\n",
              "\n",
              "  <div class=\"colab-df-container\">\n",
              "    <button class=\"colab-df-convert\" onclick=\"convertToInteractive('df-c1f06e22-2621-467f-b507-6a124d2a2520')\"\n",
              "            title=\"Convert this dataframe to an interactive table.\"\n",
              "            style=\"display:none;\">\n",
              "\n",
              "  <svg xmlns=\"http://www.w3.org/2000/svg\" height=\"24px\" viewBox=\"0 -960 960 960\">\n",
              "    <path d=\"M120-120v-720h720v720H120Zm60-500h600v-160H180v160Zm220 220h160v-160H400v160Zm0 220h160v-160H400v160ZM180-400h160v-160H180v160Zm440 0h160v-160H620v160ZM180-180h160v-160H180v160Zm440 0h160v-160H620v160Z\"/>\n",
              "  </svg>\n",
              "    </button>\n",
              "\n",
              "  <style>\n",
              "    .colab-df-container {\n",
              "      display:flex;\n",
              "      gap: 12px;\n",
              "    }\n",
              "\n",
              "    .colab-df-convert {\n",
              "      background-color: #E8F0FE;\n",
              "      border: none;\n",
              "      border-radius: 50%;\n",
              "      cursor: pointer;\n",
              "      display: none;\n",
              "      fill: #1967D2;\n",
              "      height: 32px;\n",
              "      padding: 0 0 0 0;\n",
              "      width: 32px;\n",
              "    }\n",
              "\n",
              "    .colab-df-convert:hover {\n",
              "      background-color: #E2EBFA;\n",
              "      box-shadow: 0px 1px 2px rgba(60, 64, 67, 0.3), 0px 1px 3px 1px rgba(60, 64, 67, 0.15);\n",
              "      fill: #174EA6;\n",
              "    }\n",
              "\n",
              "    .colab-df-buttons div {\n",
              "      margin-bottom: 4px;\n",
              "    }\n",
              "\n",
              "    [theme=dark] .colab-df-convert {\n",
              "      background-color: #3B4455;\n",
              "      fill: #D2E3FC;\n",
              "    }\n",
              "\n",
              "    [theme=dark] .colab-df-convert:hover {\n",
              "      background-color: #434B5C;\n",
              "      box-shadow: 0px 1px 3px 1px rgba(0, 0, 0, 0.15);\n",
              "      filter: drop-shadow(0px 1px 2px rgba(0, 0, 0, 0.3));\n",
              "      fill: #FFFFFF;\n",
              "    }\n",
              "  </style>\n",
              "\n",
              "    <script>\n",
              "      const buttonEl =\n",
              "        document.querySelector('#df-c1f06e22-2621-467f-b507-6a124d2a2520 button.colab-df-convert');\n",
              "      buttonEl.style.display =\n",
              "        google.colab.kernel.accessAllowed ? 'block' : 'none';\n",
              "\n",
              "      async function convertToInteractive(key) {\n",
              "        const element = document.querySelector('#df-c1f06e22-2621-467f-b507-6a124d2a2520');\n",
              "        const dataTable =\n",
              "          await google.colab.kernel.invokeFunction('convertToInteractive',\n",
              "                                                    [key], {});\n",
              "        if (!dataTable) return;\n",
              "\n",
              "        const docLinkHtml = 'Like what you see? Visit the ' +\n",
              "          '<a target=\"_blank\" href=https://colab.research.google.com/notebooks/data_table.ipynb>data table notebook</a>'\n",
              "          + ' to learn more about interactive tables.';\n",
              "        element.innerHTML = '';\n",
              "        dataTable['output_type'] = 'display_data';\n",
              "        await google.colab.output.renderOutput(dataTable, element);\n",
              "        const docLink = document.createElement('div');\n",
              "        docLink.innerHTML = docLinkHtml;\n",
              "        element.appendChild(docLink);\n",
              "      }\n",
              "    </script>\n",
              "  </div>\n",
              "\n",
              "\n",
              "<div id=\"df-88bee3f3-ace7-4402-aff4-1769cac13cfe\">\n",
              "  <button class=\"colab-df-quickchart\" onclick=\"quickchart('df-88bee3f3-ace7-4402-aff4-1769cac13cfe')\"\n",
              "            title=\"Suggest charts\"\n",
              "            style=\"display:none;\">\n",
              "\n",
              "<svg xmlns=\"http://www.w3.org/2000/svg\" height=\"24px\"viewBox=\"0 0 24 24\"\n",
              "     width=\"24px\">\n",
              "    <g>\n",
              "        <path d=\"M19 3H5c-1.1 0-2 .9-2 2v14c0 1.1.9 2 2 2h14c1.1 0 2-.9 2-2V5c0-1.1-.9-2-2-2zM9 17H7v-7h2v7zm4 0h-2V7h2v10zm4 0h-2v-4h2v4z\"/>\n",
              "    </g>\n",
              "</svg>\n",
              "  </button>\n",
              "\n",
              "<style>\n",
              "  .colab-df-quickchart {\n",
              "      --bg-color: #E8F0FE;\n",
              "      --fill-color: #1967D2;\n",
              "      --hover-bg-color: #E2EBFA;\n",
              "      --hover-fill-color: #174EA6;\n",
              "      --disabled-fill-color: #AAA;\n",
              "      --disabled-bg-color: #DDD;\n",
              "  }\n",
              "\n",
              "  [theme=dark] .colab-df-quickchart {\n",
              "      --bg-color: #3B4455;\n",
              "      --fill-color: #D2E3FC;\n",
              "      --hover-bg-color: #434B5C;\n",
              "      --hover-fill-color: #FFFFFF;\n",
              "      --disabled-bg-color: #3B4455;\n",
              "      --disabled-fill-color: #666;\n",
              "  }\n",
              "\n",
              "  .colab-df-quickchart {\n",
              "    background-color: var(--bg-color);\n",
              "    border: none;\n",
              "    border-radius: 50%;\n",
              "    cursor: pointer;\n",
              "    display: none;\n",
              "    fill: var(--fill-color);\n",
              "    height: 32px;\n",
              "    padding: 0;\n",
              "    width: 32px;\n",
              "  }\n",
              "\n",
              "  .colab-df-quickchart:hover {\n",
              "    background-color: var(--hover-bg-color);\n",
              "    box-shadow: 0 1px 2px rgba(60, 64, 67, 0.3), 0 1px 3px 1px rgba(60, 64, 67, 0.15);\n",
              "    fill: var(--button-hover-fill-color);\n",
              "  }\n",
              "\n",
              "  .colab-df-quickchart-complete:disabled,\n",
              "  .colab-df-quickchart-complete:disabled:hover {\n",
              "    background-color: var(--disabled-bg-color);\n",
              "    fill: var(--disabled-fill-color);\n",
              "    box-shadow: none;\n",
              "  }\n",
              "\n",
              "  .colab-df-spinner {\n",
              "    border: 2px solid var(--fill-color);\n",
              "    border-color: transparent;\n",
              "    border-bottom-color: var(--fill-color);\n",
              "    animation:\n",
              "      spin 1s steps(1) infinite;\n",
              "  }\n",
              "\n",
              "  @keyframes spin {\n",
              "    0% {\n",
              "      border-color: transparent;\n",
              "      border-bottom-color: var(--fill-color);\n",
              "      border-left-color: var(--fill-color);\n",
              "    }\n",
              "    20% {\n",
              "      border-color: transparent;\n",
              "      border-left-color: var(--fill-color);\n",
              "      border-top-color: var(--fill-color);\n",
              "    }\n",
              "    30% {\n",
              "      border-color: transparent;\n",
              "      border-left-color: var(--fill-color);\n",
              "      border-top-color: var(--fill-color);\n",
              "      border-right-color: var(--fill-color);\n",
              "    }\n",
              "    40% {\n",
              "      border-color: transparent;\n",
              "      border-right-color: var(--fill-color);\n",
              "      border-top-color: var(--fill-color);\n",
              "    }\n",
              "    60% {\n",
              "      border-color: transparent;\n",
              "      border-right-color: var(--fill-color);\n",
              "    }\n",
              "    80% {\n",
              "      border-color: transparent;\n",
              "      border-right-color: var(--fill-color);\n",
              "      border-bottom-color: var(--fill-color);\n",
              "    }\n",
              "    90% {\n",
              "      border-color: transparent;\n",
              "      border-bottom-color: var(--fill-color);\n",
              "    }\n",
              "  }\n",
              "</style>\n",
              "\n",
              "  <script>\n",
              "    async function quickchart(key) {\n",
              "      const quickchartButtonEl =\n",
              "        document.querySelector('#' + key + ' button');\n",
              "      quickchartButtonEl.disabled = true;  // To prevent multiple clicks.\n",
              "      quickchartButtonEl.classList.add('colab-df-spinner');\n",
              "      try {\n",
              "        const charts = await google.colab.kernel.invokeFunction(\n",
              "            'suggestCharts', [key], {});\n",
              "      } catch (error) {\n",
              "        console.error('Error during call to suggestCharts:', error);\n",
              "      }\n",
              "      quickchartButtonEl.classList.remove('colab-df-spinner');\n",
              "      quickchartButtonEl.classList.add('colab-df-quickchart-complete');\n",
              "    }\n",
              "    (() => {\n",
              "      let quickchartButtonEl =\n",
              "        document.querySelector('#df-88bee3f3-ace7-4402-aff4-1769cac13cfe button');\n",
              "      quickchartButtonEl.style.display =\n",
              "        google.colab.kernel.accessAllowed ? 'block' : 'none';\n",
              "    })();\n",
              "  </script>\n",
              "</div>\n",
              "\n",
              "  <div id=\"id_85e9a103-0fe3-4d9b-ac2f-6f795d397d34\">\n",
              "    <style>\n",
              "      .colab-df-generate {\n",
              "        background-color: #E8F0FE;\n",
              "        border: none;\n",
              "        border-radius: 50%;\n",
              "        cursor: pointer;\n",
              "        display: none;\n",
              "        fill: #1967D2;\n",
              "        height: 32px;\n",
              "        padding: 0 0 0 0;\n",
              "        width: 32px;\n",
              "      }\n",
              "\n",
              "      .colab-df-generate:hover {\n",
              "        background-color: #E2EBFA;\n",
              "        box-shadow: 0px 1px 2px rgba(60, 64, 67, 0.3), 0px 1px 3px 1px rgba(60, 64, 67, 0.15);\n",
              "        fill: #174EA6;\n",
              "      }\n",
              "\n",
              "      [theme=dark] .colab-df-generate {\n",
              "        background-color: #3B4455;\n",
              "        fill: #D2E3FC;\n",
              "      }\n",
              "\n",
              "      [theme=dark] .colab-df-generate:hover {\n",
              "        background-color: #434B5C;\n",
              "        box-shadow: 0px 1px 3px 1px rgba(0, 0, 0, 0.15);\n",
              "        filter: drop-shadow(0px 1px 2px rgba(0, 0, 0, 0.3));\n",
              "        fill: #FFFFFF;\n",
              "      }\n",
              "    </style>\n",
              "    <button class=\"colab-df-generate\" onclick=\"generateWithVariable('ratings')\"\n",
              "            title=\"Generate code using this dataframe.\"\n",
              "            style=\"display:none;\">\n",
              "\n",
              "  <svg xmlns=\"http://www.w3.org/2000/svg\" height=\"24px\"viewBox=\"0 0 24 24\"\n",
              "       width=\"24px\">\n",
              "    <path d=\"M7,19H8.4L18.45,9,17,7.55,7,17.6ZM5,21V16.75L18.45,3.32a2,2,0,0,1,2.83,0l1.4,1.43a1.91,1.91,0,0,1,.58,1.4,1.91,1.91,0,0,1-.58,1.4L9.25,21ZM18.45,9,17,7.55Zm-12,3A5.31,5.31,0,0,0,4.9,8.1,5.31,5.31,0,0,0,1,6.5,5.31,5.31,0,0,0,4.9,4.9,5.31,5.31,0,0,0,6.5,1,5.31,5.31,0,0,0,8.1,4.9,5.31,5.31,0,0,0,12,6.5,5.46,5.46,0,0,0,6.5,12Z\"/>\n",
              "  </svg>\n",
              "    </button>\n",
              "    <script>\n",
              "      (() => {\n",
              "      const buttonEl =\n",
              "        document.querySelector('#id_85e9a103-0fe3-4d9b-ac2f-6f795d397d34 button.colab-df-generate');\n",
              "      buttonEl.style.display =\n",
              "        google.colab.kernel.accessAllowed ? 'block' : 'none';\n",
              "\n",
              "      buttonEl.onclick = () => {\n",
              "        google.colab.notebook.generateWithVariable('ratings');\n",
              "      }\n",
              "      })();\n",
              "    </script>\n",
              "  </div>\n",
              "\n",
              "    </div>\n",
              "  </div>\n"
            ],
            "application/vnd.google.colaboratory.intrinsic+json": {
              "type": "dataframe",
              "variable_name": "ratings"
            }
          },
          "metadata": {},
          "execution_count": 9
        }
      ]
    },
    {
      "cell_type": "code",
      "source": [
        "import matplotlib.pyplot as plt\n",
        "import seaborn as sns\n",
        "\n",
        "sns.countplot(x=ratings['Rating'])"
      ],
      "metadata": {
        "colab": {
          "base_uri": "https://localhost:8080/",
          "height": 467
        },
        "id": "Ftnysdg9-kLm",
        "outputId": "93c854d0-d89b-402d-a547-abc74ca1ff98"
      },
      "execution_count": 10,
      "outputs": [
        {
          "output_type": "execute_result",
          "data": {
            "text/plain": [
              "<Axes: xlabel='Rating', ylabel='count'>"
            ]
          },
          "metadata": {},
          "execution_count": 10
        },
        {
          "output_type": "display_data",
          "data": {
            "text/plain": [
              "<Figure size 640x480 with 1 Axes>"
            ],
            "image/png": "[encoded data removed]"
          },
          "metadata": {}
        }
      ]
    },
    {
      "cell_type": "code",
      "source": [
        "print(len(ratings['User-ID'].unique()))\n",
        "print(len(ratings['ISBN'].unique()))"
      ],
      "metadata": {
        "colab": {
          "base_uri": "https://localhost:8080/"
        },
        "id": "YqO98t1--leL",
        "outputId": "5f97836d-fba1-4dec-c753-a1f4e601e524"
      },
      "execution_count": 11,
      "outputs": [
        {
          "output_type": "stream",
          "name": "stdout",
          "text": [
            "105283\n",
            "340556\n"
          ]
        }
      ]
    },
    {
      "cell_type": "code",
      "source": [
        "isbn_counts = ratings.groupby('ISBN').size()\n",
        "count_occurrences = isbn_counts.value_counts()\n",
        "count_occurrences[:15].plot(kind='bar')\n",
        "plt.xlabel(\"Number of occurrences of an ISBN number\")\n",
        "plt.ylabel(\"Count\")"
      ],
      "metadata": {
        "colab": {
          "base_uri": "https://localhost:8080/",
          "height": 471
        },
        "id": "GOqSTBGp-nKv",
        "outputId": "7c8720a1-2692-42b1-8915-e021647c5314"
      },
      "execution_count": 12,
      "outputs": [
        {
          "output_type": "execute_result",
          "data": {
            "text/plain": [
              "Text(0, 0.5, 'Count')"
            ]
          },
          "metadata": {},
          "execution_count": 12
        },
        {
          "output_type": "display_data",
          "data": {
            "text/plain": [
              "<Figure size 640x480 with 1 Axes>"
            ],
            "image/png": "[encoded data removed]"
          },
          "metadata": {}
        }
      ]
    },
    {
      "cell_type": "code",
      "source": [
        "userid_counts = ratings.groupby('User-ID').size()\n",
        "count_occurrences = userid_counts.value_counts()\n",
        "count_occurrences[:15].plot(kind='bar')\n",
        "plt.xlabel(\"Number of occurrences of a User-ID\")\n",
        "plt.ylabel(\"Count\")"
      ],
      "metadata": {
        "colab": {
          "base_uri": "https://localhost:8080/",
          "height": 471
        },
        "id": "Sa3RXQa_-q2b",
        "outputId": "62ab120d-15c4-4164-a507-66c842335040"
      },
      "execution_count": 13,
      "outputs": [
        {
          "output_type": "execute_result",
          "data": {
            "text/plain": [
              "Text(0, 0.5, 'Count')"
            ]
          },
          "metadata": {},
          "execution_count": 13
        },
        {
          "output_type": "display_data",
          "data": {
            "text/plain": [
              "<Figure size 640x480 with 1 Axes>"
            ],
            "image/png": "[encoded data removed]"
          },
          "metadata": {}
        }
      ]
    },
    {
      "cell_type": "markdown",
      "source": [
        "## Data Preprocessing"
      ],
      "metadata": {
        "id": "1aKc-RKRCAkE"
      }
    },
    {
      "cell_type": "code",
      "source": [
        "import numpy as np\n",
        "from sklearn.model_selection import train_test_split\n",
        "\n",
        "import torch\n",
        "import torch.nn.functional as F\n",
        "from torch import nn, optim, Tensor\n",
        "\n",
        "from torch_geometric.utils import structured_negative_sampling\n",
        "from torch_geometric.nn.conv.gcn_conv import gcn_norm\n",
        "from torch_geometric.nn import LGConv"
      ],
      "metadata": {
        "id": "-jvaQ9IFAweH"
      },
      "execution_count": 14,
      "outputs": []
    },
    {
      "cell_type": "code",
      "source": [
        "df = pd.read_csv('Ratings.csv', sep=';', encoding='latin-1')\n",
        "users = pd.read_csv('Users.csv', sep=';', encoding='latin-1')\n",
        "books = pd.read_csv('Books.csv', sep=';', encoding='latin-1', error_bad_lines=False)\n",
        "\n",
        "# Preprocessing\n",
        "# ISBN 칼럼에 있는 책들 중 Books.csv에 없는 책은 삭제, User-ID 또한 User.csv에 없는 User는 삭제\n",
        "df = df.loc[df['ISBN'].isin(books['ISBN'].unique()) & df['User-ID'].isin(users['User-ID'].unique())]\n",
        "\n",
        "# Keep the 100k highest ratings\n",
        "df = df[df['Rating'] >= 8].iloc[:100000]\n",
        "\n",
        "print(df, users, books)"
      ],
      "metadata": {
        "colab": {
          "base_uri": "https://localhost:8080/"
        },
        "id": "q7dCRWdjAwcC",
        "outputId": "4ee1f784-ffae-4334-ba02-ecdfd9b05efe"
      },
      "execution_count": 15,
      "outputs": [
        {
          "output_type": "stream",
          "name": "stderr",
          "text": [
            "<ipython-input-15-f9811fd6129a>:2: DtypeWarning: Columns (0) have mixed types. Specify dtype option on import or set low_memory=False.\n",
            "  users = pd.read_csv('Users.csv', sep=';', encoding='latin-1')\n",
            "<ipython-input-15-f9811fd6129a>:3: FutureWarning: The error_bad_lines argument has been deprecated and will be removed in a future version. Use on_bad_lines in the future.\n",
            "\n",
            "\n",
            "  books = pd.read_csv('Books.csv', sep=';', encoding='latin-1', error_bad_lines=False)\n"
          ]
        },
        {
          "output_type": "stream",
          "name": "stdout",
          "text": [
            "        User-ID        ISBN  Rating\n",
            "9586         12  1879384493      10\n",
            "9591         16  0345402871       9\n",
            "9607         26  0446310786      10\n",
            "9608         26  0449005615       9\n",
            "9609         32  0060168013       8\n",
            "...         ...         ...     ...\n",
            "480298   114601  0743419049      10\n",
            "480303   114604  0618002219       9\n",
            "480314   114611  0445409134       8\n",
            "480315   114611  0446313033       8\n",
            "480317   114611  0553276743       8\n",
            "\n",
            "[100000 rows x 3 columns]        User-ID  Age\n",
            "0            1  NaN\n",
            "1            2   18\n",
            "2            3  NaN\n",
            "3            4   17\n",
            "4            5  NaN\n",
            "...        ...  ...\n",
            "278854  278854  NaN\n",
            "278855  278855   50\n",
            "278856  278856  NaN\n",
            "278857  278857  NaN\n",
            "278858  278858  NaN\n",
            "\n",
            "[278859 rows x 2 columns]               ISBN                                              Title  \\\n",
            "0       0195153448                                Classical Mythology   \n",
            "1       0002005018                                       Clara Callan   \n",
            "2       0060973129                               Decision in Normandy   \n",
            "3       0374157065  Flu: The Story of the Great Influenza Pandemic...   \n",
            "4       0393045218                             The Mummies of Urumchi   \n",
            "...            ...                                                ...   \n",
            "271374  0440400988                         There's a Bat in Bunk Five   \n",
            "271375  0525447644                            From One to One Hundred   \n",
            "271376  006008667X  Lily Dale : The True Story of the Town that Ta...   \n",
            "271377  0192126040                        Republic (World's Classics)   \n",
            "271378  0767409752  A Guided Tour of Rene Descartes' Meditations o...   \n",
            "\n",
            "                      Author  Year  \\\n",
            "0         Mark P. O. Morford  2002   \n",
            "1       Richard Bruce Wright  2001   \n",
            "2               Carlo D'Este  1991   \n",
            "3           Gina Bari Kolata  1999   \n",
            "4            E. J. W. Barber  1999   \n",
            "...                      ...   ...   \n",
            "271374        Paula Danziger  1988   \n",
            "271375            Teri Sloat  1991   \n",
            "271376      Christine Wicker  2004   \n",
            "271377                 Plato  1996   \n",
            "271378   Christopher  Biffle  2000   \n",
            "\n",
            "                                               Publisher  \n",
            "0                                Oxford University Press  \n",
            "1                                  HarperFlamingo Canada  \n",
            "2                                        HarperPerennial  \n",
            "3                                   Farrar Straus Giroux  \n",
            "4                                 W. W. Norton & Company  \n",
            "...                                                  ...  \n",
            "271374                   Random House Childrens Pub (Mm)  \n",
            "271375                                      Dutton Books  \n",
            "271376                                HarperSanFrancisco  \n",
            "271377                           Oxford University Press  \n",
            "271378  McGraw-Hill Humanities/Social Sciences/Languages  \n",
            "\n",
            "[271379 rows x 5 columns]\n"
          ]
        }
      ]
    },
    {
      "cell_type": "code",
      "source": [
        "# Create mappings\n",
        "user_mapping = {userid: i for i, userid in enumerate(df['User-ID'].unique())}\n",
        "item_mapping = {isbn: i for i, isbn in enumerate(df['ISBN'].unique())}\n",
        "\n",
        "# Count users and items\n",
        "num_users = len(user_mapping)\n",
        "num_items = len(item_mapping)\n",
        "num_total = num_users + num_items\n",
        "\n",
        "print(num_users, num_items, num_total)"
      ],
      "metadata": {
        "colab": {
          "base_uri": "https://localhost:8080/"
        },
        "id": "PnrNuq1-AwZQ",
        "outputId": "3230d0e9-9517-4e30-f2b8-abe142334534"
      },
      "execution_count": 16,
      "outputs": [
        {
          "output_type": "stream",
          "name": "stdout",
          "text": [
            "19557 56913 76470\n"
          ]
        }
      ]
    },
    {
      "cell_type": "code",
      "source": [
        "# Build the adjacency matrix based on user ratings\n",
        "user_ids = torch.LongTensor([user_mapping[i] for i in df['User-ID']])\n",
        "item_ids = torch.LongTensor([item_mapping[i] for i in df['ISBN']])\n",
        "edge_index = torch.stack((user_ids, item_ids))"
      ],
      "metadata": {
        "id": "GxGYBH6-AwNP"
      },
      "execution_count": 17,
      "outputs": []
    },
    {
      "cell_type": "code",
      "source": [
        "# Create training, validation, and test adjacency matrices\n",
        "train_index, test_index = train_test_split(range(len(df)), test_size=0.2, random_state=0)\n",
        "val_index, test_index = train_test_split(test_index, test_size=0.5, random_state=0)\n",
        "\n",
        "train_edge_index = edge_index[:, train_index]\n",
        "val_edge_index = edge_index[:, val_index]\n",
        "test_edge_index = edge_index[:, test_index]"
      ],
      "metadata": {
        "id": "BRoD52JYIvsd"
      },
      "execution_count": 18,
      "outputs": []
    },
    {
      "cell_type": "code",
      "source": [
        "def sample_mini_batch(edge_index):\n",
        "    # BATCH_SIZE만큼의 랜덤 엣지 인덱스를 가져옴\n",
        "    index = np.random.choice(range(edge_index.shape[1]), size=BATCH_SIZE)\n",
        "\n",
        "    # 주어진 positive edge에 대해 negative edge 생성하고 추가함\n",
        "    edge_index = structured_negative_sampling(edge_index)\n",
        "    edge_index = torch.stack(edge_index, dim=0)\n",
        "\n",
        "    user_index = edge_index[0, index]\n",
        "    pos_item_index = edge_index[1, index]\n",
        "    neg_item_index = edge_index[2, index]\n",
        "\n",
        "    return user_index, pos_item_index, neg_item_index"
      ],
      "metadata": {
        "id": "Hqe3kkXWI1am"
      },
      "execution_count": 19,
      "outputs": []
    },
    {
      "cell_type": "markdown",
      "source": [
        "Implement LightGCN"
      ],
      "metadata": {
        "id": "NmpBp1olJDJj"
      }
    },
    {
      "cell_type": "code",
      "source": [
        "class LightGCN(nn.Module):\n",
        "    def __init__(self, num_users, num_items, num_layers=4, dim_h=64):\n",
        "        super().__init__()\n",
        "\n",
        "        self.num_users = num_users\n",
        "        self.num_items = num_items\n",
        "        self.num_layers = num_layers\n",
        "        self.emb_users = nn.Embedding(num_embeddings=self.num_users, embedding_dim=dim_h)\n",
        "        self.emb_items = nn.Embedding(num_embeddings=self.num_items, embedding_dim=dim_h)\n",
        "\n",
        "        self.convs = nn.ModuleList(LGConv() for _ in range(num_layers))\n",
        "\n",
        "        # 임베딩 초기화\n",
        "        nn.init.normal_(self.emb_users.weight, std=0.01)\n",
        "        nn.init.normal_(self.emb_items.weight, std=0.01)\n",
        "\n",
        "    def forward(self, edge_index):\n",
        "        # 유저 임베딩 아래에 아이템 임베딩을 이어붙여 한번에 계산\n",
        "        emb = torch.cat([self.emb_users.weight, self.emb_items.weight])\n",
        "        embs = [emb] # emb shape : (users + items) x emb\n",
        "\n",
        "        for conv in self.convs:\n",
        "            emb = conv(x=emb, edge_index=edge_index)\n",
        "            embs.append(emb) # 최종적으로 초기 emb 1개 + 각각의 conv layer를 통과한 emb 3개\n",
        "\n",
        "        # stack으로 만든 (users + items) x 4 x emb 행렬에서 1번째 dim(4)를 기준으로 평균을 낸 (users + items) x emb 생성\n",
        "        emb_final = 1/(self.num_layers+1) * torch.mean(torch.stack(embs, dim=1), dim=1)\n",
        "\n",
        "        emb_users_final, emb_items_final = torch.split(emb_final, [self.num_users, self.num_items])\n",
        "        # .weight를 붙여 초기 상태의 임베딩도 반환함\n",
        "        return emb_users_final, self.emb_users.weight, emb_items_final, self.emb_items.weight"
      ],
      "metadata": {
        "id": "qaIkcI7kJFUE"
      },
      "execution_count": 20,
      "outputs": []
    },
    {
      "cell_type": "markdown",
      "source": [
        "Loss"
      ],
      "metadata": {
        "id": "d9_AfeRSJIs_"
      }
    },
    {
      "cell_type": "code",
      "source": [
        "def bpr_loss(emb_users_final, emb_users, emb_pos_items_final, emb_pos_items, emb_neg_items_final, emb_neg_items):\n",
        "    reg_loss = LAMBDA * (emb_users.norm().pow(2) +\n",
        "                        emb_pos_items.norm().pow(2) +\n",
        "                        emb_neg_items.norm().pow(2))\n",
        "\n",
        "    pos_ratings = torch.mul(emb_users_final, emb_pos_items_final).sum(dim=-1)\n",
        "    neg_ratings = torch.mul(emb_users_final, emb_neg_items_final).sum(dim=-1)\n",
        "\n",
        "    #bpr_loss = torch.mean(torch.nn.functional.softplus(pos_ratings - neg_ratings))\n",
        "    bpr_loss = torch.mean(torch.nn.functional.logsigmoid(pos_ratings - neg_ratings))\n",
        "\n",
        "    # return에 (-)를 붙였기 때문에 최적화 과정에서 loss가 작아지기 위해선 pos-neg_ratings가 커져야함\n",
        "    # -> pos rating이 커지고, neg rating이 작아지는 방향으로 학습\n",
        "    return -bpr_loss + reg_loss"
      ],
      "metadata": {
        "id": "Ov2X5dKMI2qE"
      },
      "execution_count": 21,
      "outputs": []
    },
    {
      "cell_type": "code",
      "source": [
        "# 각 사용자가 상호작용한 아이템의 리스트를 만들어내는 함수\n",
        "def get_user_items(edge_index):\n",
        "    user_items = dict()\n",
        "    for i in range(edge_index.shape[1]):\n",
        "        user = edge_index[0][i].item()\n",
        "        item = edge_index[1][i].item()\n",
        "        if user not in user_items:\n",
        "            user_items[user] = []\n",
        "        user_items[user].append(item)\n",
        "    return user_items"
      ],
      "metadata": {
        "id": "PzYy4W9cJQdZ"
      },
      "execution_count": 22,
      "outputs": []
    },
    {
      "cell_type": "code",
      "source": [
        "K = 20\n",
        "LAMBDA = 1e-6\n",
        "BATCH_SIZE = 1024\n",
        "\n",
        "device = torch.device('cuda' if torch.cuda.is_available() else 'cpu')\n",
        "\n",
        "model = LightGCN(num_users, num_items)\n",
        "model = model.to(device)\n",
        "edge_index = edge_index.to(device)\n",
        "train_edge_index = train_edge_index.to(device)\n",
        "val_edge_index = val_edge_index.to(device)\n",
        "\n",
        "optimizer = optim.Adam(model.parameters(), lr=0.001)"
      ],
      "metadata": {
        "id": "o0neXEMrJhz5"
      },
      "execution_count": 23,
      "outputs": []
    },
    {
      "cell_type": "code",
      "source": [
        "# wrapper function to evaluate model\n",
        "def test(model, edge_index, exclude_edge_indices): # train에서 사용한 edge_index들은 제외\n",
        "    emb_users_final, emb_users, emb_items_final, emb_items = model.forward(edge_index)\n",
        "    user_indices, pos_item_indices, neg_item_indices = structured_negative_sampling(edge_index, contains_neg_self_loops=False)\n",
        "\n",
        "    emb_users_final, emb_users = emb_users_final[user_indices], emb_users[user_indices]\n",
        "\n",
        "    emb_pos_items_final, emb_pos_items = emb_items_final[pos_item_indices], emb_items[pos_item_indices]\n",
        "    emb_neg_items_final, emb_neg_items = emb_items_final[neg_item_indices], emb_items[neg_item_indices]\n",
        "\n",
        "    loss = bpr_loss(emb_users_final, emb_users, emb_pos_items_final, emb_pos_items, emb_neg_items_final, emb_neg_items).item()\n",
        "\n",
        "    recall, ndcg = get_metrics(model, edge_index, exclude_edge_indices)\n",
        "\n",
        "    return loss, recall, ndcg"
      ],
      "metadata": {
        "id": "zerJ7hm0Jfld"
      },
      "execution_count": 24,
      "outputs": []
    },
    {
      "cell_type": "code",
      "source": [
        "def compute_recall_at_k(items_ground_truth, items_predicted):\n",
        "    num_correct_pred = np.sum(items_predicted, axis=1)\n",
        "    num_total_pred = np.array([len(items_ground_truth[i]) for i in range(len(items_ground_truth))])\n",
        "\n",
        "    recall = np.mean(num_correct_pred / num_total_pred)\n",
        "\n",
        "    return recall\n",
        "\n",
        "def compute_ndcg_at_k(items_ground_truth, items_predicted):\n",
        "    # items_ground_truth: 실제 선호 리스트, items_predicted : 추천 아이템 리스트\n",
        "\n",
        "    # 실제 선호 아이템에 대한 행렬 생성(선호 : 1, 아니면 : 0), relevance 역할\n",
        "    test_matrix = np.zeros((len(items_predicted), K))\n",
        "    for i, items in enumerate(items_ground_truth):\n",
        "        length = min(len(items), K)\n",
        "        test_matrix[i, :length] = 1\n",
        "\n",
        "    # IDCG 계산\n",
        "    max_r = test_matrix # 이상적인 상황에서의 행렬\n",
        "    idcg = np.sum(max_r * 1. / np.log2(np.arange(2, K + 2)), axis=1) # 사용자별로 이상적인 상황에서의 DCG 값 계산\n",
        "    dcg = items_predicted * (1. / np.log2(np.arange(2, K + 2))) # DCG 값 계산\n",
        "    dcg = np.sum(dcg, axis=1)\n",
        "    idcg[idcg == 0.] = 1. # idcg가 0인경우, 0으로 나누는것을 방지\n",
        "    ndcg = dcg / idcg # NDCG 계산\n",
        "    ndcg[np.isnan(ndcg)] = 0. # NAN값은 0으로 처리\n",
        "\n",
        "    return np.mean(ndcg)\n",
        "\n",
        "# wrapper function to get evaluation metrics\n",
        "def get_metrics(model, edge_index, exclude_edge_indices):\n",
        "    # user_num x item_num, 사용자별 아이템 평가점수 행렬 계산\n",
        "    ratings = torch.matmul(model.emb_users.weight, model.emb_items.weight.T)\n",
        "\n",
        "    # 평가 과정에서 제외할 user-item 쌍을 식별, 매우 낮은값(-1024)로 설정하여 추천에서 제외\n",
        "    for exclude_edge_index in exclude_edge_indices:\n",
        "        user_pos_items = get_user_items(exclude_edge_index)\n",
        "        exclude_users = []\n",
        "        exclude_items = []\n",
        "        for user, items in user_pos_items.items():\n",
        "            exclude_users.extend([user] * len(items))\n",
        "            exclude_items.extend(items)\n",
        "        ratings[exclude_users, exclude_items] = -1024\n",
        "\n",
        "    # get the top k recommended items for each user\n",
        "    _, top_K_items = torch.topk(ratings, k=K)\n",
        "\n",
        "    # get all unique users in evaluated split\n",
        "    users = edge_index[0].unique()\n",
        "\n",
        "    test_user_pos_items = get_user_items(edge_index)\n",
        "\n",
        "    # convert test user pos items dictionary into a list\n",
        "    test_user_pos_items_list = [test_user_pos_items[user.item()] for user in users]\n",
        "\n",
        "    # determine the correctness of topk predictions\n",
        "    items_predicted = []\n",
        "    for user in users:\n",
        "        ground_truth_items = test_user_pos_items[user.item()]\n",
        "        label = list(map(lambda x: x in ground_truth_items, top_K_items[user]))\n",
        "        items_predicted.append(label)\n",
        "\n",
        "    recall = compute_recall_at_k(test_user_pos_items_list, items_predicted)\n",
        "    ndcg = compute_ndcg_at_k(test_user_pos_items_list, items_predicted)\n",
        "\n",
        "    return recall, ndcg"
      ],
      "metadata": {
        "id": "Bn_hYDssJS8h"
      },
      "execution_count": 25,
      "outputs": []
    },
    {
      "cell_type": "code",
      "source": [
        "%%time\n",
        "n_batch = int(len(train_index)/BATCH_SIZE)\n",
        "\n",
        "for epoch in range(21):\n",
        "    model.train()\n",
        "\n",
        "    for _ in range(n_batch):\n",
        "        optimizer.zero_grad()\n",
        "\n",
        "        emb_users_final, emb_users, emb_items_final, emb_items = model.forward(train_edge_index) # 전체 유저의 임베딩을 얻음\n",
        "        user_indices, pos_item_indices, neg_item_indices = sample_mini_batch(train_edge_index)\n",
        "        # train시킨 edge_index에 포함하는 임베딩만 추출(BatchSize(1024)개)\n",
        "        emb_users_final, emb_users = emb_users_final[user_indices], emb_users[user_indices]\n",
        "\n",
        "        # 미니배치의 pos,neg 아이템의 임베딩을 추출함\n",
        "        emb_pos_items_final, emb_pos_items = emb_items_final[pos_item_indices], emb_items[pos_item_indices]\n",
        "        emb_neg_items_final, emb_neg_items = emb_items_final[neg_item_indices], emb_items[neg_item_indices]\n",
        "\n",
        "        train_loss = bpr_loss(emb_users_final, emb_users, emb_pos_items_final, emb_pos_items, emb_neg_items_final, emb_neg_items)\n",
        "\n",
        "        train_loss.backward()\n",
        "        optimizer.step()\n",
        "\n",
        "    if epoch % 5 == 0:\n",
        "        model.eval()\n",
        "        val_loss, recall, ndcg = test(model, val_edge_index, [train_edge_index])\n",
        "        print(f\"Epoch {epoch} | Train loss: {train_loss.item():.5f} | Val loss: {val_loss:.5f} | Val recall@{K}: {recall:.5f} | Val ndcg@{K}: {ndcg:.5f}\")\n",
        "\n",
        "test_loss, test_recall, test_ndcg = test(model, test_edge_index.to(device), [train_edge_index, val_edge_index])\n",
        "print(f\"Test loss: {test_loss:.5f} | Test recall@{K}: {test_recall:.5f} | Test ndcg@{K}: {test_ndcg:.5f}\")"
      ],
      "metadata": {
        "colab": {
          "base_uri": "https://localhost:8080/"
        },
        "id": "My1SMYt9JnTL",
        "outputId": "a4ccd0cf-5013-4a17-e79a-ff6f2c75a958"
      },
      "execution_count": 30,
      "outputs": [
        {
          "output_type": "stream",
          "name": "stdout",
          "text": [
            "Epoch 0 | Train loss: 0.67997 | Val loss: 0.72589 | Val recall@20: 0.01828 | Val ndcg@20: 0.00912\n",
            "Epoch 5 | Train loss: 0.67014 | Val loss: 0.77532 | Val recall@20: 0.01560 | Val ndcg@20: 0.00764\n",
            "Epoch 10 | Train loss: 0.64765 | Val loss: 0.80447 | Val recall@20: 0.01088 | Val ndcg@20: 0.00569\n",
            "Epoch 15 | Train loss: 0.65036 | Val loss: 0.82269 | Val recall@20: 0.01112 | Val ndcg@20: 0.00522\n",
            "Epoch 20 | Train loss: 0.65238 | Val loss: 0.83845 | Val recall@20: 0.01061 | Val ndcg@20: 0.00509\n",
            "Test loss: 0.83567 | Test recall@20: 0.00704 | Test ndcg@20: 0.00334\n",
            "CPU times: user 13min 41s, sys: 3min 35s, total: 17min 17s\n",
            "Wall time: 17min 23s\n"
          ]
        }
      ]
    },
    {
      "cell_type": "markdown",
      "source": [
        "Evaluation"
      ],
      "metadata": {
        "id": "WFepNUCiJVJo"
      }
    },
    {
      "cell_type": "code",
      "source": [
        "import numpy as np\n",
        "print(np.arange(2, 20 + 2))"
      ],
      "metadata": {
        "colab": {
          "base_uri": "https://localhost:8080/"
        },
        "id": "jYd6gfgMEMK4",
        "outputId": "5204a379-054a-45a8-e7c6-9ee98cb9ece4"
      },
      "execution_count": 31,
      "outputs": [
        {
          "output_type": "stream",
          "name": "stdout",
          "text": [
            "[ 2  3  4  5  6  7  8  9 10 11 12 13 14 15 16 17 18 19 20 21]\n"
          ]
        }
      ]
    },
    {
      "cell_type": "markdown",
      "source": [
        "Recommending Books"
      ],
      "metadata": {
        "id": "uFYePxCRJxia"
      }
    },
    {
      "cell_type": "code",
      "source": [
        "bookid_title = pd.Series(books['Title'].values, index=books.ISBN).to_dict()\n",
        "bookid_author = pd.Series(books['Author'].values, index=books.ISBN).to_dict()\n",
        "user_pos_items = get_user_items(edge_index)\n",
        "\n",
        "from PIL import Image\n",
        "import requests\n",
        "\n",
        "def recommend(user_id, num_recs):\n",
        "    # 추천받고자 하는 user_id, 추천 받을 개수를 받아옴\n",
        "    user = user_mapping[user_id]\n",
        "    emb_user = model.emb_users.weight[user] # 해당 유저의 임베딩을 가져옴\n",
        "    ratings = model.emb_items.weight @ emb_user # 유저 임베딩으로 아이템별 점수 측정\n",
        "\n",
        "    values, indices = torch.topk(ratings, k=100) # 점수가 높은 아이템 100개 추출\n",
        "\n",
        "    # 100개 중 user가 상호작용한 book들만 ids에 저장,\n",
        "    ids = [index.cpu().item() for index in indices if index in user_pos_items[user]][:num_recs]\n",
        "    # ids에 있는 책들의 ISBN을 가져옴\n",
        "    item_isbns = [list(item_mapping.keys())[list(item_mapping.values()).index(book)] for book in ids]\n",
        "    # 위에서 가져온 ISBN으로 제목과 저자를 가져옴\n",
        "    titles = [bookid_title[id] for id in item_isbns]\n",
        "    authors = [bookid_author[id] for id in item_isbns]\n",
        "\n",
        "    print(f'Favorite books from user n°{user_id}:')\n",
        "    for i in range(len(item_isbns)):\n",
        "        print(f'- {titles[i]}, by {authors[i]}')\n",
        "\n",
        "    # # 100개 중 user가 상호작용하지 않은 book들만 ids에 저장, 이후 위와 동일\n",
        "    ids = [index.cpu().item() for index in indices if index not in user_pos_items[user]][:num_recs]\n",
        "    item_isbns = [list(item_mapping.keys())[list(item_mapping.values()).index(book)] for book in ids]\n",
        "    titles = [bookid_title[id] for id in item_isbns]\n",
        "    authors = [bookid_author[id] for id in item_isbns]\n",
        "\n",
        "    print(f'\\nRecommended books for user n°{user_id}')\n",
        "    for i in range(num_recs):\n",
        "        print(f'- {titles[i]}, by {authors[i]}')\n",
        "\n",
        "\n",
        "    # headers = {'User-Agent': 'Mozilla/5.0 (Windows NT 10.0; Win64; x64) AppleWebKit/537.36 (KHTML, like Gecko) Chrome/58.0.3029.110 Safari/537.3'}\n",
        "    # fig, axs = plt.subplots(1, num_recs, figsize=(20,6))\n",
        "    # fig.patch.set_alpha(0)\n",
        "    # for i, title in enumerate(titles):\n",
        "    #     # 책의 이미지 출력\n",
        "    #     url = books.loc[books['Title'] == title]['Image-URL-L'][:1].values[0]\n",
        "    #     img = Image.open(requests.get(url, stream=True, headers=headers).raw)\n",
        "    #     rating = df.loc[df['ISBN'] == books.loc[books['Title'] == title]['ISBN'][:1].values[0]]['Rating'].mean()\n",
        "    #     axs[i].axis(\"off\")\n",
        "    #     axs[i].imshow(img)\n",
        "    #     axs[i].set_title(f'{rating:.1f}/10', y=-0.1, fontsize=18)\n",
        "\n",
        "#print(user_mapping)\n",
        "\n",
        "recommend(114611, 5)"
      ],
      "metadata": {
        "colab": {
          "base_uri": "https://localhost:8080/"
        },
        "id": "v7tGi0poJzCw",
        "outputId": "1f441cdc-a71c-4fb2-87cd-24700de9afb6"
      },
      "execution_count": 32,
      "outputs": [
        {
          "output_type": "stream",
          "name": "stdout",
          "text": [
            "Favorite books from user n°114611:\n",
            "\n",
            "Recommended books for user n°114611\n",
            "- Earth and Its Peoples: A Global History Since 1500, by Richard W. Bulliet\n",
            "- The Cat's Meow (Paranormal Romance), by Victoria Alexander\n",
            "- The Bachman Books: Rage, the Long Walk, Roadwork, the Running Man, by Stephen King\n",
            "- Was This Man a Genius?: Talks With Andy Kaufman, by Julie Hecht\n",
            "- Recipes For Easy Living, by Curtiss Ann Matlock\n"
          ]
        }
      ]
    }
  ]
}